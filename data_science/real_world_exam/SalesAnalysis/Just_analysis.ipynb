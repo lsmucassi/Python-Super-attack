{
 "cells": [
  {
   "cell_type": "markdown",
   "metadata": {},
   "source": [
    "# Sales Analysis\n",
    "\n",
    "import Libraies\n"
   ]
  },
  {
   "cell_type": "code",
   "execution_count": 1,
   "metadata": {},
   "outputs": [],
   "source": [
    "import pandas as pd\n",
    "import os\n",
    "import matplotlib.pyplot as plt"
   ]
  },
  {
   "cell_type": "markdown",
   "metadata": {},
   "source": [
    "### Task 1: Merging 12 months of data into a single CSV file "
   ]
  },
  {
   "cell_type": "code",
   "execution_count": 2,
   "metadata": {},
   "outputs": [],
   "source": [
    "#read in all CSVs to one variable\n",
    "files = [file for file in os.listdir('./Sales_Data')]\n",
    "\n",
    "#create an empty data frame to store final merged files\n",
    "all_months_data = pd.DataFrame()\n",
    "\n",
    "#merge files\n",
    "for file in files:\n",
    "    df = pd.read_csv(\"./Sales_Data/\" + file)\n",
    "    all_months_data = pd.concat([all_months_data, df])\n",
    "    \n",
    "    \n",
    "all_months_data.to_csv(\"all_data.csv\", index=False)"
   ]
  },
  {
   "cell_type": "markdown",
   "metadata": {},
   "source": [
    "#### Read in new CSV with merged files"
   ]
  },
  {
   "cell_type": "code",
   "execution_count": 3,
   "metadata": {
    "scrolled": false
   },
   "outputs": [
    {
     "output_type": "execute_result",
     "data": {
      "text/plain": [
       "  Order ID                   Product Quantity Ordered Price Each  \\\n",
       "0   222910  Apple Airpods Headphones                1        150   \n",
       "1   222911             Flatscreen TV                1        300   \n",
       "2   222912     AA Batteries (4-pack)                1       3.84   \n",
       "3   222913     AA Batteries (4-pack)                1       3.84   \n",
       "4   222914    AAA Batteries (4-pack)                5       2.99   \n",
       "\n",
       "       Order Date                  Purchase Address  \n",
       "0  07/26/19 16:51   389 South St, Atlanta, GA 30301  \n",
       "1  07/05/19 08:55     590 4th St, Seattle, WA 98101  \n",
       "2  07/29/19 12:41    861 Hill St, Atlanta, GA 30301  \n",
       "3  07/28/19 10:15   190 Ridge St, Atlanta, GA 30301  \n",
       "4  07/31/19 02:13  824 Forest St, Seattle, WA 98101  "
      ],
      "text/html": "<div>\n<style scoped>\n    .dataframe tbody tr th:only-of-type {\n        vertical-align: middle;\n    }\n\n    .dataframe tbody tr th {\n        vertical-align: top;\n    }\n\n    .dataframe thead th {\n        text-align: right;\n    }\n</style>\n<table border=\"1\" class=\"dataframe\">\n  <thead>\n    <tr style=\"text-align: right;\">\n      <th></th>\n      <th>Order ID</th>\n      <th>Product</th>\n      <th>Quantity Ordered</th>\n      <th>Price Each</th>\n      <th>Order Date</th>\n      <th>Purchase Address</th>\n    </tr>\n  </thead>\n  <tbody>\n    <tr>\n      <th>0</th>\n      <td>222910</td>\n      <td>Apple Airpods Headphones</td>\n      <td>1</td>\n      <td>150</td>\n      <td>07/26/19 16:51</td>\n      <td>389 South St, Atlanta, GA 30301</td>\n    </tr>\n    <tr>\n      <th>1</th>\n      <td>222911</td>\n      <td>Flatscreen TV</td>\n      <td>1</td>\n      <td>300</td>\n      <td>07/05/19 08:55</td>\n      <td>590 4th St, Seattle, WA 98101</td>\n    </tr>\n    <tr>\n      <th>2</th>\n      <td>222912</td>\n      <td>AA Batteries (4-pack)</td>\n      <td>1</td>\n      <td>3.84</td>\n      <td>07/29/19 12:41</td>\n      <td>861 Hill St, Atlanta, GA 30301</td>\n    </tr>\n    <tr>\n      <th>3</th>\n      <td>222913</td>\n      <td>AA Batteries (4-pack)</td>\n      <td>1</td>\n      <td>3.84</td>\n      <td>07/28/19 10:15</td>\n      <td>190 Ridge St, Atlanta, GA 30301</td>\n    </tr>\n    <tr>\n      <th>4</th>\n      <td>222914</td>\n      <td>AAA Batteries (4-pack)</td>\n      <td>5</td>\n      <td>2.99</td>\n      <td>07/31/19 02:13</td>\n      <td>824 Forest St, Seattle, WA 98101</td>\n    </tr>\n  </tbody>\n</table>\n</div>"
     },
     "metadata": {},
     "execution_count": 3
    }
   ],
   "source": [
    "all_data = pd.read_csv(\"all_data.csv\")\n",
    "all_data.head()"
   ]
  },
  {
   "cell_type": "markdown",
   "metadata": {},
   "source": [
    "#### clean up data"
   ]
  },
  {
   "cell_type": "code",
   "execution_count": 4,
   "metadata": {},
   "outputs": [
    {
     "output_type": "execute_result",
     "data": {
      "text/plain": [
       "       Order ID                     Product Quantity Ordered Price Each  \\\n",
       "0        222910    Apple Airpods Headphones                1        150   \n",
       "1        222911               Flatscreen TV                1        300   \n",
       "2        222912       AA Batteries (4-pack)                1       3.84   \n",
       "3        222913       AA Batteries (4-pack)                1       3.84   \n",
       "4        222914      AAA Batteries (4-pack)                5       2.99   \n",
       "...         ...                         ...              ...        ...   \n",
       "186845   319666    Lightning Charging Cable                1      14.95   \n",
       "186846   319667       AA Batteries (4-pack)                2       3.84   \n",
       "186847   319668             Vareebadd Phone                1        400   \n",
       "186848   319669            Wired Headphones                1      11.99   \n",
       "186849   319670  Bose SoundSport Headphones                1      99.99   \n",
       "\n",
       "            Order Date                        Purchase Address  \n",
       "0       07/26/19 16:51         389 South St, Atlanta, GA 30301  \n",
       "1       07/05/19 08:55           590 4th St, Seattle, WA 98101  \n",
       "2       07/29/19 12:41          861 Hill St, Atlanta, GA 30301  \n",
       "3       07/28/19 10:15         190 Ridge St, Atlanta, GA 30301  \n",
       "4       07/31/19 02:13        824 Forest St, Seattle, WA 98101  \n",
       "...                ...                                     ...  \n",
       "186845  12/11/19 20:58  14 Madison St, San Francisco, CA 94016  \n",
       "186846  12/01/19 12:01    549 Willow St, Los Angeles, CA 90001  \n",
       "186847  12/09/19 06:43        273 Wilson St, Seattle, WA 98101  \n",
       "186848  12/03/19 10:39          778 River St, Dallas, TX 75001  \n",
       "186849  12/21/19 21:45  747 Chestnut St, Los Angeles, CA 90001  \n",
       "\n",
       "[186305 rows x 6 columns]"
      ],
      "text/html": "<div>\n<style scoped>\n    .dataframe tbody tr th:only-of-type {\n        vertical-align: middle;\n    }\n\n    .dataframe tbody tr th {\n        vertical-align: top;\n    }\n\n    .dataframe thead th {\n        text-align: right;\n    }\n</style>\n<table border=\"1\" class=\"dataframe\">\n  <thead>\n    <tr style=\"text-align: right;\">\n      <th></th>\n      <th>Order ID</th>\n      <th>Product</th>\n      <th>Quantity Ordered</th>\n      <th>Price Each</th>\n      <th>Order Date</th>\n      <th>Purchase Address</th>\n    </tr>\n  </thead>\n  <tbody>\n    <tr>\n      <th>0</th>\n      <td>222910</td>\n      <td>Apple Airpods Headphones</td>\n      <td>1</td>\n      <td>150</td>\n      <td>07/26/19 16:51</td>\n      <td>389 South St, Atlanta, GA 30301</td>\n    </tr>\n    <tr>\n      <th>1</th>\n      <td>222911</td>\n      <td>Flatscreen TV</td>\n      <td>1</td>\n      <td>300</td>\n      <td>07/05/19 08:55</td>\n      <td>590 4th St, Seattle, WA 98101</td>\n    </tr>\n    <tr>\n      <th>2</th>\n      <td>222912</td>\n      <td>AA Batteries (4-pack)</td>\n      <td>1</td>\n      <td>3.84</td>\n      <td>07/29/19 12:41</td>\n      <td>861 Hill St, Atlanta, GA 30301</td>\n    </tr>\n    <tr>\n      <th>3</th>\n      <td>222913</td>\n      <td>AA Batteries (4-pack)</td>\n      <td>1</td>\n      <td>3.84</td>\n      <td>07/28/19 10:15</td>\n      <td>190 Ridge St, Atlanta, GA 30301</td>\n    </tr>\n    <tr>\n      <th>4</th>\n      <td>222914</td>\n      <td>AAA Batteries (4-pack)</td>\n      <td>5</td>\n      <td>2.99</td>\n      <td>07/31/19 02:13</td>\n      <td>824 Forest St, Seattle, WA 98101</td>\n    </tr>\n    <tr>\n      <th>...</th>\n      <td>...</td>\n      <td>...</td>\n      <td>...</td>\n      <td>...</td>\n      <td>...</td>\n      <td>...</td>\n    </tr>\n    <tr>\n      <th>186845</th>\n      <td>319666</td>\n      <td>Lightning Charging Cable</td>\n      <td>1</td>\n      <td>14.95</td>\n      <td>12/11/19 20:58</td>\n      <td>14 Madison St, San Francisco, CA 94016</td>\n    </tr>\n    <tr>\n      <th>186846</th>\n      <td>319667</td>\n      <td>AA Batteries (4-pack)</td>\n      <td>2</td>\n      <td>3.84</td>\n      <td>12/01/19 12:01</td>\n      <td>549 Willow St, Los Angeles, CA 90001</td>\n    </tr>\n    <tr>\n      <th>186847</th>\n      <td>319668</td>\n      <td>Vareebadd Phone</td>\n      <td>1</td>\n      <td>400</td>\n      <td>12/09/19 06:43</td>\n      <td>273 Wilson St, Seattle, WA 98101</td>\n    </tr>\n    <tr>\n      <th>186848</th>\n      <td>319669</td>\n      <td>Wired Headphones</td>\n      <td>1</td>\n      <td>11.99</td>\n      <td>12/03/19 10:39</td>\n      <td>778 River St, Dallas, TX 75001</td>\n    </tr>\n    <tr>\n      <th>186849</th>\n      <td>319670</td>\n      <td>Bose SoundSport Headphones</td>\n      <td>1</td>\n      <td>99.99</td>\n      <td>12/21/19 21:45</td>\n      <td>747 Chestnut St, Los Angeles, CA 90001</td>\n    </tr>\n  </tbody>\n</table>\n<p>186305 rows × 6 columns</p>\n</div>"
     },
     "metadata": {},
     "execution_count": 4
    }
   ],
   "source": [
    "# drop NaN rows\n",
    "# get and store all nan\n",
    "nan_df = all_data[all_data.isna().any(axis=1)]\n",
    "nan_df\n",
    "\n",
    "#delete nan\n",
    "all_data = all_data.dropna(how='all')\n",
    "all_data\n"
   ]
  },
  {
   "cell_type": "markdown",
   "metadata": {},
   "source": [
    "#### Find 'Or' and delete it"
   ]
  },
  {
   "cell_type": "code",
   "execution_count": 12,
   "metadata": {},
   "outputs": [],
   "source": [
    "# find the value 'Or' from Order date as it causes an error\n",
    "or_df = all_data[all_data['Order Date'].str[0:2] == 'Or']\n",
    "or_df\n",
    "\n",
    "# filter all_data to not take 'Or' rows from 'Order Date' column\n",
    "all_data = all_data[all_data['Order Date'].str[0:2] != 'Or']"
   ]
  },
  {
   "cell_type": "markdown",
   "metadata": {},
   "source": [
    "#### Convert columns to the right types\n"
   ]
  },
  {
   "cell_type": "code",
   "execution_count": 6,
   "metadata": {},
   "outputs": [],
   "source": [
    "all_data['Quantity Ordered'] = pd.to_numeric(all_data['Quantity Ordered']) # convert to int\n",
    "all_data['Price Each'] = pd.to_numeric(all_data['Price Each']) # convert to float"
   ]
  },
  {
   "cell_type": "code",
   "execution_count": null,
   "metadata": {},
   "outputs": [],
   "source": []
  },
  {
   "cell_type": "markdown",
   "metadata": {},
   "source": [
    "### Task 2: Augment data with additiona columns\n",
    "\n",
    "#### add month column"
   ]
  },
  {
   "cell_type": "code",
   "execution_count": 7,
   "metadata": {
    "scrolled": true
   },
   "outputs": [
    {
     "output_type": "execute_result",
     "data": {
      "text/plain": [
       "  Order ID                   Product  Quantity Ordered  Price Each  \\\n",
       "0   222910  Apple Airpods Headphones                 1      150.00   \n",
       "1   222911             Flatscreen TV                 1      300.00   \n",
       "2   222912     AA Batteries (4-pack)                 1        3.84   \n",
       "3   222913     AA Batteries (4-pack)                 1        3.84   \n",
       "4   222914    AAA Batteries (4-pack)                 5        2.99   \n",
       "\n",
       "       Order Date                  Purchase Address  Month  \n",
       "0  07/26/19 16:51   389 South St, Atlanta, GA 30301      7  \n",
       "1  07/05/19 08:55     590 4th St, Seattle, WA 98101      7  \n",
       "2  07/29/19 12:41    861 Hill St, Atlanta, GA 30301      7  \n",
       "3  07/28/19 10:15   190 Ridge St, Atlanta, GA 30301      7  \n",
       "4  07/31/19 02:13  824 Forest St, Seattle, WA 98101      7  "
      ],
      "text/html": "<div>\n<style scoped>\n    .dataframe tbody tr th:only-of-type {\n        vertical-align: middle;\n    }\n\n    .dataframe tbody tr th {\n        vertical-align: top;\n    }\n\n    .dataframe thead th {\n        text-align: right;\n    }\n</style>\n<table border=\"1\" class=\"dataframe\">\n  <thead>\n    <tr style=\"text-align: right;\">\n      <th></th>\n      <th>Order ID</th>\n      <th>Product</th>\n      <th>Quantity Ordered</th>\n      <th>Price Each</th>\n      <th>Order Date</th>\n      <th>Purchase Address</th>\n      <th>Month</th>\n    </tr>\n  </thead>\n  <tbody>\n    <tr>\n      <th>0</th>\n      <td>222910</td>\n      <td>Apple Airpods Headphones</td>\n      <td>1</td>\n      <td>150.00</td>\n      <td>07/26/19 16:51</td>\n      <td>389 South St, Atlanta, GA 30301</td>\n      <td>7</td>\n    </tr>\n    <tr>\n      <th>1</th>\n      <td>222911</td>\n      <td>Flatscreen TV</td>\n      <td>1</td>\n      <td>300.00</td>\n      <td>07/05/19 08:55</td>\n      <td>590 4th St, Seattle, WA 98101</td>\n      <td>7</td>\n    </tr>\n    <tr>\n      <th>2</th>\n      <td>222912</td>\n      <td>AA Batteries (4-pack)</td>\n      <td>1</td>\n      <td>3.84</td>\n      <td>07/29/19 12:41</td>\n      <td>861 Hill St, Atlanta, GA 30301</td>\n      <td>7</td>\n    </tr>\n    <tr>\n      <th>3</th>\n      <td>222913</td>\n      <td>AA Batteries (4-pack)</td>\n      <td>1</td>\n      <td>3.84</td>\n      <td>07/28/19 10:15</td>\n      <td>190 Ridge St, Atlanta, GA 30301</td>\n      <td>7</td>\n    </tr>\n    <tr>\n      <th>4</th>\n      <td>222914</td>\n      <td>AAA Batteries (4-pack)</td>\n      <td>5</td>\n      <td>2.99</td>\n      <td>07/31/19 02:13</td>\n      <td>824 Forest St, Seattle, WA 98101</td>\n      <td>7</td>\n    </tr>\n  </tbody>\n</table>\n</div>"
     },
     "metadata": {},
     "execution_count": 7
    }
   ],
   "source": [
    "all_data['Month'] = all_data['Order Date'].str[0:2]\n",
    "all_data['Month'] = all_data['Month'].astype('int32')\n",
    "all_data.head()"
   ]
  },
  {
   "cell_type": "markdown",
   "metadata": {},
   "source": [
    "#### add sales column"
   ]
  },
  {
   "cell_type": "code",
   "execution_count": 8,
   "metadata": {},
   "outputs": [
    {
     "output_type": "execute_result",
     "data": {
      "text/plain": [
       "  Order ID                   Product  Quantity Ordered  Price Each  \\\n",
       "0   222910  Apple Airpods Headphones                 1      150.00   \n",
       "1   222911             Flatscreen TV                 1      300.00   \n",
       "2   222912     AA Batteries (4-pack)                 1        3.84   \n",
       "3   222913     AA Batteries (4-pack)                 1        3.84   \n",
       "4   222914    AAA Batteries (4-pack)                 5        2.99   \n",
       "\n",
       "       Order Date                  Purchase Address  Month   Sales  \n",
       "0  07/26/19 16:51   389 South St, Atlanta, GA 30301      7  150.00  \n",
       "1  07/05/19 08:55     590 4th St, Seattle, WA 98101      7  300.00  \n",
       "2  07/29/19 12:41    861 Hill St, Atlanta, GA 30301      7    3.84  \n",
       "3  07/28/19 10:15   190 Ridge St, Atlanta, GA 30301      7    3.84  \n",
       "4  07/31/19 02:13  824 Forest St, Seattle, WA 98101      7   14.95  "
      ],
      "text/html": "<div>\n<style scoped>\n    .dataframe tbody tr th:only-of-type {\n        vertical-align: middle;\n    }\n\n    .dataframe tbody tr th {\n        vertical-align: top;\n    }\n\n    .dataframe thead th {\n        text-align: right;\n    }\n</style>\n<table border=\"1\" class=\"dataframe\">\n  <thead>\n    <tr style=\"text-align: right;\">\n      <th></th>\n      <th>Order ID</th>\n      <th>Product</th>\n      <th>Quantity Ordered</th>\n      <th>Price Each</th>\n      <th>Order Date</th>\n      <th>Purchase Address</th>\n      <th>Month</th>\n      <th>Sales</th>\n    </tr>\n  </thead>\n  <tbody>\n    <tr>\n      <th>0</th>\n      <td>222910</td>\n      <td>Apple Airpods Headphones</td>\n      <td>1</td>\n      <td>150.00</td>\n      <td>07/26/19 16:51</td>\n      <td>389 South St, Atlanta, GA 30301</td>\n      <td>7</td>\n      <td>150.00</td>\n    </tr>\n    <tr>\n      <th>1</th>\n      <td>222911</td>\n      <td>Flatscreen TV</td>\n      <td>1</td>\n      <td>300.00</td>\n      <td>07/05/19 08:55</td>\n      <td>590 4th St, Seattle, WA 98101</td>\n      <td>7</td>\n      <td>300.00</td>\n    </tr>\n    <tr>\n      <th>2</th>\n      <td>222912</td>\n      <td>AA Batteries (4-pack)</td>\n      <td>1</td>\n      <td>3.84</td>\n      <td>07/29/19 12:41</td>\n      <td>861 Hill St, Atlanta, GA 30301</td>\n      <td>7</td>\n      <td>3.84</td>\n    </tr>\n    <tr>\n      <th>3</th>\n      <td>222913</td>\n      <td>AA Batteries (4-pack)</td>\n      <td>1</td>\n      <td>3.84</td>\n      <td>07/28/19 10:15</td>\n      <td>190 Ridge St, Atlanta, GA 30301</td>\n      <td>7</td>\n      <td>3.84</td>\n    </tr>\n    <tr>\n      <th>4</th>\n      <td>222914</td>\n      <td>AAA Batteries (4-pack)</td>\n      <td>5</td>\n      <td>2.99</td>\n      <td>07/31/19 02:13</td>\n      <td>824 Forest St, Seattle, WA 98101</td>\n      <td>7</td>\n      <td>14.95</td>\n    </tr>\n  </tbody>\n</table>\n</div>"
     },
     "metadata": {},
     "execution_count": 8
    }
   ],
   "source": [
    "all_data['Sales'] = all_data['Quantity Ordered'] * all_data['Price Each']\n",
    "all_data.head()"
   ]
  },
  {
   "source": [
    "### add city column"
   ],
   "cell_type": "markdown",
   "metadata": {}
  },
  {
   "cell_type": "code",
   "execution_count": 30,
   "metadata": {},
   "outputs": [
    {
     "output_type": "execute_result",
     "data": {
      "text/plain": [
       "  Order ID                   Product  Quantity Ordered  Price Each  \\\n",
       "0   222910  Apple Airpods Headphones                 1      150.00   \n",
       "1   222911             Flatscreen TV                 1      300.00   \n",
       "2   222912     AA Batteries (4-pack)                 1        3.84   \n",
       "3   222913     AA Batteries (4-pack)                 1        3.84   \n",
       "4   222914    AAA Batteries (4-pack)                 5        2.99   \n",
       "\n",
       "       Order Date                  Purchase Address  Month   Sales  \\\n",
       "0  07/26/19 16:51   389 South St, Atlanta, GA 30301      7  150.00   \n",
       "1  07/05/19 08:55     590 4th St, Seattle, WA 98101      7  300.00   \n",
       "2  07/29/19 12:41    861 Hill St, Atlanta, GA 30301      7    3.84   \n",
       "3  07/28/19 10:15   190 Ridge St, Atlanta, GA 30301      7    3.84   \n",
       "4  07/31/19 02:13  824 Forest St, Seattle, WA 98101      7   14.95   \n",
       "\n",
       "            city  \n",
       "0   Atlanta-(GA)  \n",
       "1   Seattle-(WA)  \n",
       "2   Atlanta-(GA)  \n",
       "3   Atlanta-(GA)  \n",
       "4   Seattle-(WA)  "
      ],
      "text/html": "<div>\n<style scoped>\n    .dataframe tbody tr th:only-of-type {\n        vertical-align: middle;\n    }\n\n    .dataframe tbody tr th {\n        vertical-align: top;\n    }\n\n    .dataframe thead th {\n        text-align: right;\n    }\n</style>\n<table border=\"1\" class=\"dataframe\">\n  <thead>\n    <tr style=\"text-align: right;\">\n      <th></th>\n      <th>Order ID</th>\n      <th>Product</th>\n      <th>Quantity Ordered</th>\n      <th>Price Each</th>\n      <th>Order Date</th>\n      <th>Purchase Address</th>\n      <th>Month</th>\n      <th>Sales</th>\n      <th>city</th>\n    </tr>\n  </thead>\n  <tbody>\n    <tr>\n      <th>0</th>\n      <td>222910</td>\n      <td>Apple Airpods Headphones</td>\n      <td>1</td>\n      <td>150.00</td>\n      <td>07/26/19 16:51</td>\n      <td>389 South St, Atlanta, GA 30301</td>\n      <td>7</td>\n      <td>150.00</td>\n      <td>Atlanta-(GA)</td>\n    </tr>\n    <tr>\n      <th>1</th>\n      <td>222911</td>\n      <td>Flatscreen TV</td>\n      <td>1</td>\n      <td>300.00</td>\n      <td>07/05/19 08:55</td>\n      <td>590 4th St, Seattle, WA 98101</td>\n      <td>7</td>\n      <td>300.00</td>\n      <td>Seattle-(WA)</td>\n    </tr>\n    <tr>\n      <th>2</th>\n      <td>222912</td>\n      <td>AA Batteries (4-pack)</td>\n      <td>1</td>\n      <td>3.84</td>\n      <td>07/29/19 12:41</td>\n      <td>861 Hill St, Atlanta, GA 30301</td>\n      <td>7</td>\n      <td>3.84</td>\n      <td>Atlanta-(GA)</td>\n    </tr>\n    <tr>\n      <th>3</th>\n      <td>222913</td>\n      <td>AA Batteries (4-pack)</td>\n      <td>1</td>\n      <td>3.84</td>\n      <td>07/28/19 10:15</td>\n      <td>190 Ridge St, Atlanta, GA 30301</td>\n      <td>7</td>\n      <td>3.84</td>\n      <td>Atlanta-(GA)</td>\n    </tr>\n    <tr>\n      <th>4</th>\n      <td>222914</td>\n      <td>AAA Batteries (4-pack)</td>\n      <td>5</td>\n      <td>2.99</td>\n      <td>07/31/19 02:13</td>\n      <td>824 Forest St, Seattle, WA 98101</td>\n      <td>7</td>\n      <td>14.95</td>\n      <td>Seattle-(WA)</td>\n    </tr>\n  </tbody>\n</table>\n</div>"
     },
     "metadata": {},
     "execution_count": 30
    }
   ],
   "source": [
    "# let use apply() from pandas\n",
    "def get_city(address):\n",
    "    return address.split(',')[1]\n",
    "\n",
    "def get_state(address):\n",
    "    return address.split(',')[2].split(' ')[1]\n",
    "\n",
    "all_data['city'] = all_data['Purchase Address'].apply(lambda x: f\"{get_city(x)} - ({get_state(x)})\")\n",
    "\n",
    "# or all_data['city'] = all_data['Purchase Address'].apply(lambda x: get_city(x) + '- (' + get_state(x) + ')')\n",
    "\n",
    "\n",
    "# or \n",
    "# all_data['column'] = all_data['Purchase Address'].apply(lambda x: x.split(',')[1])\n",
    "\n",
    "\n",
    "# all_data = all_data.drop(columns='column')\n",
    "# or\n",
    "# all_data.drop(columns='column', implace=True)\n",
    "\n",
    "all_data.head()"
   ]
  },
  {
   "source": [
    "#### Queatio 1: What was the best month for sales? How much was earned that month?"
   ],
   "cell_type": "markdown",
   "metadata": {}
  },
  {
   "cell_type": "code",
   "execution_count": 9,
   "metadata": {},
   "outputs": [
    {
     "output_type": "execute_result",
     "data": {
      "text/plain": [
       "       Quantity Ordered    Price Each         Sales\n",
       "Month                                              \n",
       "1                 10903  1.811768e+06  1.822257e+06\n",
       "2                 13449  2.188885e+06  2.202022e+06\n",
       "3                 17005  2.791208e+06  2.807100e+06\n",
       "4                 20558  3.367671e+06  3.390670e+06\n",
       "5                 18667  3.135125e+06  3.152607e+06\n",
       "6                 15253  2.562026e+06  2.577802e+06\n",
       "7                 16072  2.632540e+06  2.647776e+06\n",
       "8                 13448  2.230345e+06  2.244468e+06\n",
       "9                 13109  2.084992e+06  2.097560e+06\n",
       "10                22703  3.715555e+06  3.736727e+06\n",
       "11                19798  3.180601e+06  3.199603e+06\n",
       "12                28114  4.588415e+06  4.613443e+06"
      ],
      "text/html": "<div>\n<style scoped>\n    .dataframe tbody tr th:only-of-type {\n        vertical-align: middle;\n    }\n\n    .dataframe tbody tr th {\n        vertical-align: top;\n    }\n\n    .dataframe thead th {\n        text-align: right;\n    }\n</style>\n<table border=\"1\" class=\"dataframe\">\n  <thead>\n    <tr style=\"text-align: right;\">\n      <th></th>\n      <th>Quantity Ordered</th>\n      <th>Price Each</th>\n      <th>Sales</th>\n    </tr>\n    <tr>\n      <th>Month</th>\n      <th></th>\n      <th></th>\n      <th></th>\n    </tr>\n  </thead>\n  <tbody>\n    <tr>\n      <th>1</th>\n      <td>10903</td>\n      <td>1.811768e+06</td>\n      <td>1.822257e+06</td>\n    </tr>\n    <tr>\n      <th>2</th>\n      <td>13449</td>\n      <td>2.188885e+06</td>\n      <td>2.202022e+06</td>\n    </tr>\n    <tr>\n      <th>3</th>\n      <td>17005</td>\n      <td>2.791208e+06</td>\n      <td>2.807100e+06</td>\n    </tr>\n    <tr>\n      <th>4</th>\n      <td>20558</td>\n      <td>3.367671e+06</td>\n      <td>3.390670e+06</td>\n    </tr>\n    <tr>\n      <th>5</th>\n      <td>18667</td>\n      <td>3.135125e+06</td>\n      <td>3.152607e+06</td>\n    </tr>\n    <tr>\n      <th>6</th>\n      <td>15253</td>\n      <td>2.562026e+06</td>\n      <td>2.577802e+06</td>\n    </tr>\n    <tr>\n      <th>7</th>\n      <td>16072</td>\n      <td>2.632540e+06</td>\n      <td>2.647776e+06</td>\n    </tr>\n    <tr>\n      <th>8</th>\n      <td>13448</td>\n      <td>2.230345e+06</td>\n      <td>2.244468e+06</td>\n    </tr>\n    <tr>\n      <th>9</th>\n      <td>13109</td>\n      <td>2.084992e+06</td>\n      <td>2.097560e+06</td>\n    </tr>\n    <tr>\n      <th>10</th>\n      <td>22703</td>\n      <td>3.715555e+06</td>\n      <td>3.736727e+06</td>\n    </tr>\n    <tr>\n      <th>11</th>\n      <td>19798</td>\n      <td>3.180601e+06</td>\n      <td>3.199603e+06</td>\n    </tr>\n    <tr>\n      <th>12</th>\n      <td>28114</td>\n      <td>4.588415e+06</td>\n      <td>4.613443e+06</td>\n    </tr>\n  </tbody>\n</table>\n</div>"
     },
     "metadata": {},
     "execution_count": 9
    }
   ],
   "source": [
    "# group by month\n",
    "results = all_data.groupby('Month').sum()\n",
    "results"
   ]
  },
  {
   "cell_type": "code",
   "execution_count": 10,
   "metadata": {},
   "outputs": [
    {
     "output_type": "display_data",
     "data": {
      "text/plain": "<Figure size 432x288 with 1 Axes>",
      "image/svg+xml": "<?xml version=\"1.0\" encoding=\"utf-8\" standalone=\"no\"?>\n<!DOCTYPE svg PUBLIC \"-//W3C//DTD SVG 1.1//EN\"\n  \"http://www.w3.org/Graphics/SVG/1.1/DTD/svg11.dtd\">\n<!-- Created with matplotlib (https://matplotlib.org/) -->\n<svg height=\"272.794688pt\" version=\"1.1\" viewBox=\"0 0 376.240625 272.794688\" width=\"376.240625pt\" xmlns=\"http://www.w3.org/2000/svg\" xmlns:xlink=\"http://www.w3.org/1999/xlink\">\n <defs>\n  <style type=\"text/css\">\n*{stroke-linecap:butt;stroke-linejoin:round;}\n  </style>\n </defs>\n <g id=\"figure_1\">\n  <g id=\"patch_1\">\n   <path d=\"M 0 272.794688 \nL 376.240625 272.794688 \nL 376.240625 0 \nL 0 0 \nz\n\" style=\"fill:none;\"/>\n  </g>\n  <g id=\"axes_1\">\n   <g id=\"patch_2\">\n    <path d=\"M 34.240625 235.238438 \nL 369.040625 235.238438 \nL 369.040625 17.798438 \nL 34.240625 17.798438 \nz\n\" style=\"fill:#ffffff;\"/>\n   </g>\n   <g id=\"patch_3\">\n    <path clip-path=\"url(#p51fdfb6c8f)\" d=\"M 49.458807 235.238438 \nL 70.09363 235.238438 \nL 70.09363 153.441977 \nL 49.458807 153.441977 \nz\n\" style=\"fill:#1f77b4;\"/>\n   </g>\n   <g id=\"patch_4\">\n    <path clip-path=\"url(#p51fdfb6c8f)\" d=\"M 75.252335 235.238438 \nL 95.887158 235.238438 \nL 95.887158 136.395263 \nL 75.252335 136.395263 \nz\n\" style=\"fill:#1f77b4;\"/>\n   </g>\n   <g id=\"patch_5\">\n    <path clip-path=\"url(#p51fdfb6c8f)\" d=\"M 101.045864 235.238438 \nL 121.680687 235.238438 \nL 121.680687 109.234855 \nL 101.045864 109.234855 \nz\n\" style=\"fill:#1f77b4;\"/>\n   </g>\n   <g id=\"patch_6\">\n    <path clip-path=\"url(#p51fdfb6c8f)\" d=\"M 126.839392 235.238438 \nL 147.474215 235.238438 \nL 147.474215 83.039891 \nL 126.839392 83.039891 \nz\n\" style=\"fill:#1f77b4;\"/>\n   </g>\n   <g id=\"patch_7\">\n    <path clip-path=\"url(#p51fdfb6c8f)\" d=\"M 152.632921 235.238438 \nL 173.267744 235.238438 \nL 173.267744 93.725955 \nL 152.632921 93.725955 \nz\n\" style=\"fill:#1f77b4;\"/>\n   </g>\n   <g id=\"patch_8\">\n    <path clip-path=\"url(#p51fdfb6c8f)\" d=\"M 178.426449 235.238438 \nL 199.061272 235.238438 \nL 199.061272 119.527464 \nL 178.426449 119.527464 \nz\n\" style=\"fill:#1f77b4;\"/>\n   </g>\n   <g id=\"patch_9\">\n    <path clip-path=\"url(#p51fdfb6c8f)\" d=\"M 204.219978 235.238438 \nL 224.854801 235.238438 \nL 224.854801 116.386531 \nL 204.219978 116.386531 \nz\n\" style=\"fill:#1f77b4;\"/>\n   </g>\n   <g id=\"patch_10\">\n    <path clip-path=\"url(#p51fdfb6c8f)\" d=\"M 230.013506 235.238438 \nL 250.648329 235.238438 \nL 250.648329 134.489994 \nL 230.013506 134.489994 \nz\n\" style=\"fill:#1f77b4;\"/>\n   </g>\n   <g id=\"patch_11\">\n    <path clip-path=\"url(#p51fdfb6c8f)\" d=\"M 255.807035 235.238438 \nL 276.441858 235.238438 \nL 276.441858 141.084309 \nL 255.807035 141.084309 \nz\n\" style=\"fill:#1f77b4;\"/>\n   </g>\n   <g id=\"patch_12\">\n    <path clip-path=\"url(#p51fdfb6c8f)\" d=\"M 281.600563 235.238438 \nL 302.235386 235.238438 \nL 302.235386 67.506291 \nL 281.600563 67.506291 \nz\n\" style=\"fill:#1f77b4;\"/>\n   </g>\n   <g id=\"patch_13\">\n    <path clip-path=\"url(#p51fdfb6c8f)\" d=\"M 307.394092 235.238438 \nL 328.028915 235.238438 \nL 328.028915 91.616404 \nL 307.394092 91.616404 \nz\n\" style=\"fill:#1f77b4;\"/>\n   </g>\n   <g id=\"patch_14\">\n    <path clip-path=\"url(#p51fdfb6c8f)\" d=\"M 333.18762 235.238438 \nL 353.822443 235.238438 \nL 353.822443 28.152723 \nL 333.18762 28.152723 \nz\n\" style=\"fill:#1f77b4;\"/>\n   </g>\n   <g id=\"matplotlib.axis_1\">\n    <g id=\"xtick_1\">\n     <g id=\"line2d_1\">\n      <defs>\n       <path d=\"M 0 0 \nL 0 3.5 \n\" id=\"ma7dc52eaa5\" style=\"stroke:#000000;stroke-width:0.8;\"/>\n      </defs>\n      <g>\n       <use style=\"stroke:#000000;stroke-width:0.8;\" x=\"59.776218\" xlink:href=\"#ma7dc52eaa5\" y=\"235.238438\"/>\n      </g>\n     </g>\n     <g id=\"text_1\">\n      <!-- 1 -->\n      <defs>\n       <path d=\"M 12.40625 8.296875 \nL 28.515625 8.296875 \nL 28.515625 63.921875 \nL 10.984375 60.40625 \nL 10.984375 69.390625 \nL 28.421875 72.90625 \nL 38.28125 72.90625 \nL 38.28125 8.296875 \nL 54.390625 8.296875 \nL 54.390625 0 \nL 12.40625 0 \nz\n\" id=\"DejaVuSans-49\"/>\n      </defs>\n      <g transform=\"translate(56.594968 249.836875)scale(0.1 -0.1)\">\n       <use xlink:href=\"#DejaVuSans-49\"/>\n      </g>\n     </g>\n    </g>\n    <g id=\"xtick_2\">\n     <g id=\"line2d_2\">\n      <g>\n       <use style=\"stroke:#000000;stroke-width:0.8;\" x=\"85.569747\" xlink:href=\"#ma7dc52eaa5\" y=\"235.238438\"/>\n      </g>\n     </g>\n     <g id=\"text_2\">\n      <!-- 2 -->\n      <defs>\n       <path d=\"M 19.1875 8.296875 \nL 53.609375 8.296875 \nL 53.609375 0 \nL 7.328125 0 \nL 7.328125 8.296875 \nQ 12.9375 14.109375 22.625 23.890625 \nQ 32.328125 33.6875 34.8125 36.53125 \nQ 39.546875 41.84375 41.421875 45.53125 \nQ 43.3125 49.21875 43.3125 52.78125 \nQ 43.3125 58.59375 39.234375 62.25 \nQ 35.15625 65.921875 28.609375 65.921875 \nQ 23.96875 65.921875 18.8125 64.3125 \nQ 13.671875 62.703125 7.8125 59.421875 \nL 7.8125 69.390625 \nQ 13.765625 71.78125 18.9375 73 \nQ 24.125 74.21875 28.421875 74.21875 \nQ 39.75 74.21875 46.484375 68.546875 \nQ 53.21875 62.890625 53.21875 53.421875 \nQ 53.21875 48.921875 51.53125 44.890625 \nQ 49.859375 40.875 45.40625 35.40625 \nQ 44.1875 33.984375 37.640625 27.21875 \nQ 31.109375 20.453125 19.1875 8.296875 \nz\n\" id=\"DejaVuSans-50\"/>\n      </defs>\n      <g transform=\"translate(82.388497 249.836875)scale(0.1 -0.1)\">\n       <use xlink:href=\"#DejaVuSans-50\"/>\n      </g>\n     </g>\n    </g>\n    <g id=\"xtick_3\">\n     <g id=\"line2d_3\">\n      <g>\n       <use style=\"stroke:#000000;stroke-width:0.8;\" x=\"111.363275\" xlink:href=\"#ma7dc52eaa5\" y=\"235.238438\"/>\n      </g>\n     </g>\n     <g id=\"text_3\">\n      <!-- 3 -->\n      <defs>\n       <path d=\"M 40.578125 39.3125 \nQ 47.65625 37.796875 51.625 33 \nQ 55.609375 28.21875 55.609375 21.1875 \nQ 55.609375 10.40625 48.1875 4.484375 \nQ 40.765625 -1.421875 27.09375 -1.421875 \nQ 22.515625 -1.421875 17.65625 -0.515625 \nQ 12.796875 0.390625 7.625 2.203125 \nL 7.625 11.71875 \nQ 11.71875 9.328125 16.59375 8.109375 \nQ 21.484375 6.890625 26.8125 6.890625 \nQ 36.078125 6.890625 40.9375 10.546875 \nQ 45.796875 14.203125 45.796875 21.1875 \nQ 45.796875 27.640625 41.28125 31.265625 \nQ 36.765625 34.90625 28.71875 34.90625 \nL 20.21875 34.90625 \nL 20.21875 43.015625 \nL 29.109375 43.015625 \nQ 36.375 43.015625 40.234375 45.921875 \nQ 44.09375 48.828125 44.09375 54.296875 \nQ 44.09375 59.90625 40.109375 62.90625 \nQ 36.140625 65.921875 28.71875 65.921875 \nQ 24.65625 65.921875 20.015625 65.03125 \nQ 15.375 64.15625 9.8125 62.3125 \nL 9.8125 71.09375 \nQ 15.4375 72.65625 20.34375 73.4375 \nQ 25.25 74.21875 29.59375 74.21875 \nQ 40.828125 74.21875 47.359375 69.109375 \nQ 53.90625 64.015625 53.90625 55.328125 \nQ 53.90625 49.265625 50.4375 45.09375 \nQ 46.96875 40.921875 40.578125 39.3125 \nz\n\" id=\"DejaVuSans-51\"/>\n      </defs>\n      <g transform=\"translate(108.182025 249.836875)scale(0.1 -0.1)\">\n       <use xlink:href=\"#DejaVuSans-51\"/>\n      </g>\n     </g>\n    </g>\n    <g id=\"xtick_4\">\n     <g id=\"line2d_4\">\n      <g>\n       <use style=\"stroke:#000000;stroke-width:0.8;\" x=\"137.156804\" xlink:href=\"#ma7dc52eaa5\" y=\"235.238438\"/>\n      </g>\n     </g>\n     <g id=\"text_4\">\n      <!-- 4 -->\n      <defs>\n       <path d=\"M 37.796875 64.3125 \nL 12.890625 25.390625 \nL 37.796875 25.390625 \nz\nM 35.203125 72.90625 \nL 47.609375 72.90625 \nL 47.609375 25.390625 \nL 58.015625 25.390625 \nL 58.015625 17.1875 \nL 47.609375 17.1875 \nL 47.609375 0 \nL 37.796875 0 \nL 37.796875 17.1875 \nL 4.890625 17.1875 \nL 4.890625 26.703125 \nz\n\" id=\"DejaVuSans-52\"/>\n      </defs>\n      <g transform=\"translate(133.975554 249.836875)scale(0.1 -0.1)\">\n       <use xlink:href=\"#DejaVuSans-52\"/>\n      </g>\n     </g>\n    </g>\n    <g id=\"xtick_5\">\n     <g id=\"line2d_5\">\n      <g>\n       <use style=\"stroke:#000000;stroke-width:0.8;\" x=\"162.950332\" xlink:href=\"#ma7dc52eaa5\" y=\"235.238438\"/>\n      </g>\n     </g>\n     <g id=\"text_5\">\n      <!-- 5 -->\n      <defs>\n       <path d=\"M 10.796875 72.90625 \nL 49.515625 72.90625 \nL 49.515625 64.59375 \nL 19.828125 64.59375 \nL 19.828125 46.734375 \nQ 21.96875 47.46875 24.109375 47.828125 \nQ 26.265625 48.1875 28.421875 48.1875 \nQ 40.625 48.1875 47.75 41.5 \nQ 54.890625 34.8125 54.890625 23.390625 \nQ 54.890625 11.625 47.5625 5.09375 \nQ 40.234375 -1.421875 26.90625 -1.421875 \nQ 22.3125 -1.421875 17.546875 -0.640625 \nQ 12.796875 0.140625 7.71875 1.703125 \nL 7.71875 11.625 \nQ 12.109375 9.234375 16.796875 8.0625 \nQ 21.484375 6.890625 26.703125 6.890625 \nQ 35.15625 6.890625 40.078125 11.328125 \nQ 45.015625 15.765625 45.015625 23.390625 \nQ 45.015625 31 40.078125 35.4375 \nQ 35.15625 39.890625 26.703125 39.890625 \nQ 22.75 39.890625 18.8125 39.015625 \nQ 14.890625 38.140625 10.796875 36.28125 \nz\n\" id=\"DejaVuSans-53\"/>\n      </defs>\n      <g transform=\"translate(159.769082 249.836875)scale(0.1 -0.1)\">\n       <use xlink:href=\"#DejaVuSans-53\"/>\n      </g>\n     </g>\n    </g>\n    <g id=\"xtick_6\">\n     <g id=\"line2d_6\">\n      <g>\n       <use style=\"stroke:#000000;stroke-width:0.8;\" x=\"188.743861\" xlink:href=\"#ma7dc52eaa5\" y=\"235.238438\"/>\n      </g>\n     </g>\n     <g id=\"text_6\">\n      <!-- 6 -->\n      <defs>\n       <path d=\"M 33.015625 40.375 \nQ 26.375 40.375 22.484375 35.828125 \nQ 18.609375 31.296875 18.609375 23.390625 \nQ 18.609375 15.53125 22.484375 10.953125 \nQ 26.375 6.390625 33.015625 6.390625 \nQ 39.65625 6.390625 43.53125 10.953125 \nQ 47.40625 15.53125 47.40625 23.390625 \nQ 47.40625 31.296875 43.53125 35.828125 \nQ 39.65625 40.375 33.015625 40.375 \nz\nM 52.59375 71.296875 \nL 52.59375 62.3125 \nQ 48.875 64.0625 45.09375 64.984375 \nQ 41.3125 65.921875 37.59375 65.921875 \nQ 27.828125 65.921875 22.671875 59.328125 \nQ 17.53125 52.734375 16.796875 39.40625 \nQ 19.671875 43.65625 24.015625 45.921875 \nQ 28.375 48.1875 33.59375 48.1875 \nQ 44.578125 48.1875 50.953125 41.515625 \nQ 57.328125 34.859375 57.328125 23.390625 \nQ 57.328125 12.15625 50.6875 5.359375 \nQ 44.046875 -1.421875 33.015625 -1.421875 \nQ 20.359375 -1.421875 13.671875 8.265625 \nQ 6.984375 17.96875 6.984375 36.375 \nQ 6.984375 53.65625 15.1875 63.9375 \nQ 23.390625 74.21875 37.203125 74.21875 \nQ 40.921875 74.21875 44.703125 73.484375 \nQ 48.484375 72.75 52.59375 71.296875 \nz\n\" id=\"DejaVuSans-54\"/>\n      </defs>\n      <g transform=\"translate(185.562611 249.836875)scale(0.1 -0.1)\">\n       <use xlink:href=\"#DejaVuSans-54\"/>\n      </g>\n     </g>\n    </g>\n    <g id=\"xtick_7\">\n     <g id=\"line2d_7\">\n      <g>\n       <use style=\"stroke:#000000;stroke-width:0.8;\" x=\"214.537389\" xlink:href=\"#ma7dc52eaa5\" y=\"235.238438\"/>\n      </g>\n     </g>\n     <g id=\"text_7\">\n      <!-- 7 -->\n      <defs>\n       <path d=\"M 8.203125 72.90625 \nL 55.078125 72.90625 \nL 55.078125 68.703125 \nL 28.609375 0 \nL 18.3125 0 \nL 43.21875 64.59375 \nL 8.203125 64.59375 \nz\n\" id=\"DejaVuSans-55\"/>\n      </defs>\n      <g transform=\"translate(211.356139 249.836875)scale(0.1 -0.1)\">\n       <use xlink:href=\"#DejaVuSans-55\"/>\n      </g>\n     </g>\n    </g>\n    <g id=\"xtick_8\">\n     <g id=\"line2d_8\">\n      <g>\n       <use style=\"stroke:#000000;stroke-width:0.8;\" x=\"240.330918\" xlink:href=\"#ma7dc52eaa5\" y=\"235.238438\"/>\n      </g>\n     </g>\n     <g id=\"text_8\">\n      <!-- 8 -->\n      <defs>\n       <path d=\"M 31.78125 34.625 \nQ 24.75 34.625 20.71875 30.859375 \nQ 16.703125 27.09375 16.703125 20.515625 \nQ 16.703125 13.921875 20.71875 10.15625 \nQ 24.75 6.390625 31.78125 6.390625 \nQ 38.8125 6.390625 42.859375 10.171875 \nQ 46.921875 13.96875 46.921875 20.515625 \nQ 46.921875 27.09375 42.890625 30.859375 \nQ 38.875 34.625 31.78125 34.625 \nz\nM 21.921875 38.8125 \nQ 15.578125 40.375 12.03125 44.71875 \nQ 8.5 49.078125 8.5 55.328125 \nQ 8.5 64.0625 14.71875 69.140625 \nQ 20.953125 74.21875 31.78125 74.21875 \nQ 42.671875 74.21875 48.875 69.140625 \nQ 55.078125 64.0625 55.078125 55.328125 \nQ 55.078125 49.078125 51.53125 44.71875 \nQ 48 40.375 41.703125 38.8125 \nQ 48.828125 37.15625 52.796875 32.3125 \nQ 56.78125 27.484375 56.78125 20.515625 \nQ 56.78125 9.90625 50.3125 4.234375 \nQ 43.84375 -1.421875 31.78125 -1.421875 \nQ 19.734375 -1.421875 13.25 4.234375 \nQ 6.78125 9.90625 6.78125 20.515625 \nQ 6.78125 27.484375 10.78125 32.3125 \nQ 14.796875 37.15625 21.921875 38.8125 \nz\nM 18.3125 54.390625 \nQ 18.3125 48.734375 21.84375 45.5625 \nQ 25.390625 42.390625 31.78125 42.390625 \nQ 38.140625 42.390625 41.71875 45.5625 \nQ 45.3125 48.734375 45.3125 54.390625 \nQ 45.3125 60.0625 41.71875 63.234375 \nQ 38.140625 66.40625 31.78125 66.40625 \nQ 25.390625 66.40625 21.84375 63.234375 \nQ 18.3125 60.0625 18.3125 54.390625 \nz\n\" id=\"DejaVuSans-56\"/>\n      </defs>\n      <g transform=\"translate(237.149668 249.836875)scale(0.1 -0.1)\">\n       <use xlink:href=\"#DejaVuSans-56\"/>\n      </g>\n     </g>\n    </g>\n    <g id=\"xtick_9\">\n     <g id=\"line2d_9\">\n      <g>\n       <use style=\"stroke:#000000;stroke-width:0.8;\" x=\"266.124446\" xlink:href=\"#ma7dc52eaa5\" y=\"235.238438\"/>\n      </g>\n     </g>\n     <g id=\"text_9\">\n      <!-- 9 -->\n      <defs>\n       <path d=\"M 10.984375 1.515625 \nL 10.984375 10.5 \nQ 14.703125 8.734375 18.5 7.8125 \nQ 22.3125 6.890625 25.984375 6.890625 \nQ 35.75 6.890625 40.890625 13.453125 \nQ 46.046875 20.015625 46.78125 33.40625 \nQ 43.953125 29.203125 39.59375 26.953125 \nQ 35.25 24.703125 29.984375 24.703125 \nQ 19.046875 24.703125 12.671875 31.3125 \nQ 6.296875 37.9375 6.296875 49.421875 \nQ 6.296875 60.640625 12.9375 67.421875 \nQ 19.578125 74.21875 30.609375 74.21875 \nQ 43.265625 74.21875 49.921875 64.515625 \nQ 56.59375 54.828125 56.59375 36.375 \nQ 56.59375 19.140625 48.40625 8.859375 \nQ 40.234375 -1.421875 26.421875 -1.421875 \nQ 22.703125 -1.421875 18.890625 -0.6875 \nQ 15.09375 0.046875 10.984375 1.515625 \nz\nM 30.609375 32.421875 \nQ 37.25 32.421875 41.125 36.953125 \nQ 45.015625 41.5 45.015625 49.421875 \nQ 45.015625 57.28125 41.125 61.84375 \nQ 37.25 66.40625 30.609375 66.40625 \nQ 23.96875 66.40625 20.09375 61.84375 \nQ 16.21875 57.28125 16.21875 49.421875 \nQ 16.21875 41.5 20.09375 36.953125 \nQ 23.96875 32.421875 30.609375 32.421875 \nz\n\" id=\"DejaVuSans-57\"/>\n      </defs>\n      <g transform=\"translate(262.943196 249.836875)scale(0.1 -0.1)\">\n       <use xlink:href=\"#DejaVuSans-57\"/>\n      </g>\n     </g>\n    </g>\n    <g id=\"xtick_10\">\n     <g id=\"line2d_10\">\n      <g>\n       <use style=\"stroke:#000000;stroke-width:0.8;\" x=\"291.917975\" xlink:href=\"#ma7dc52eaa5\" y=\"235.238438\"/>\n      </g>\n     </g>\n     <g id=\"text_10\">\n      <!-- 10 -->\n      <defs>\n       <path d=\"M 31.78125 66.40625 \nQ 24.171875 66.40625 20.328125 58.90625 \nQ 16.5 51.421875 16.5 36.375 \nQ 16.5 21.390625 20.328125 13.890625 \nQ 24.171875 6.390625 31.78125 6.390625 \nQ 39.453125 6.390625 43.28125 13.890625 \nQ 47.125 21.390625 47.125 36.375 \nQ 47.125 51.421875 43.28125 58.90625 \nQ 39.453125 66.40625 31.78125 66.40625 \nz\nM 31.78125 74.21875 \nQ 44.046875 74.21875 50.515625 64.515625 \nQ 56.984375 54.828125 56.984375 36.375 \nQ 56.984375 17.96875 50.515625 8.265625 \nQ 44.046875 -1.421875 31.78125 -1.421875 \nQ 19.53125 -1.421875 13.0625 8.265625 \nQ 6.59375 17.96875 6.59375 36.375 \nQ 6.59375 54.828125 13.0625 64.515625 \nQ 19.53125 74.21875 31.78125 74.21875 \nz\n\" id=\"DejaVuSans-48\"/>\n      </defs>\n      <g transform=\"translate(285.555475 249.836875)scale(0.1 -0.1)\">\n       <use xlink:href=\"#DejaVuSans-49\"/>\n       <use x=\"63.623047\" xlink:href=\"#DejaVuSans-48\"/>\n      </g>\n     </g>\n    </g>\n    <g id=\"xtick_11\">\n     <g id=\"line2d_11\">\n      <g>\n       <use style=\"stroke:#000000;stroke-width:0.8;\" x=\"317.711503\" xlink:href=\"#ma7dc52eaa5\" y=\"235.238438\"/>\n      </g>\n     </g>\n     <g id=\"text_11\">\n      <!-- 11 -->\n      <g transform=\"translate(311.349003 249.836875)scale(0.1 -0.1)\">\n       <use xlink:href=\"#DejaVuSans-49\"/>\n       <use x=\"63.623047\" xlink:href=\"#DejaVuSans-49\"/>\n      </g>\n     </g>\n    </g>\n    <g id=\"xtick_12\">\n     <g id=\"line2d_12\">\n      <g>\n       <use style=\"stroke:#000000;stroke-width:0.8;\" x=\"343.505032\" xlink:href=\"#ma7dc52eaa5\" y=\"235.238438\"/>\n      </g>\n     </g>\n     <g id=\"text_12\">\n      <!-- 12 -->\n      <g transform=\"translate(337.142532 249.836875)scale(0.1 -0.1)\">\n       <use xlink:href=\"#DejaVuSans-49\"/>\n       <use x=\"63.623047\" xlink:href=\"#DejaVuSans-50\"/>\n      </g>\n     </g>\n    </g>\n    <g id=\"text_13\">\n     <!-- Months -->\n     <defs>\n      <path d=\"M 9.8125 72.90625 \nL 24.515625 72.90625 \nL 43.109375 23.296875 \nL 61.8125 72.90625 \nL 76.515625 72.90625 \nL 76.515625 0 \nL 66.890625 0 \nL 66.890625 64.015625 \nL 48.09375 14.015625 \nL 38.1875 14.015625 \nL 19.390625 64.015625 \nL 19.390625 0 \nL 9.8125 0 \nz\n\" id=\"DejaVuSans-77\"/>\n      <path d=\"M 30.609375 48.390625 \nQ 23.390625 48.390625 19.1875 42.75 \nQ 14.984375 37.109375 14.984375 27.296875 \nQ 14.984375 17.484375 19.15625 11.84375 \nQ 23.34375 6.203125 30.609375 6.203125 \nQ 37.796875 6.203125 41.984375 11.859375 \nQ 46.1875 17.53125 46.1875 27.296875 \nQ 46.1875 37.015625 41.984375 42.703125 \nQ 37.796875 48.390625 30.609375 48.390625 \nz\nM 30.609375 56 \nQ 42.328125 56 49.015625 48.375 \nQ 55.71875 40.765625 55.71875 27.296875 \nQ 55.71875 13.875 49.015625 6.21875 \nQ 42.328125 -1.421875 30.609375 -1.421875 \nQ 18.84375 -1.421875 12.171875 6.21875 \nQ 5.515625 13.875 5.515625 27.296875 \nQ 5.515625 40.765625 12.171875 48.375 \nQ 18.84375 56 30.609375 56 \nz\n\" id=\"DejaVuSans-111\"/>\n      <path d=\"M 54.890625 33.015625 \nL 54.890625 0 \nL 45.90625 0 \nL 45.90625 32.71875 \nQ 45.90625 40.484375 42.875 44.328125 \nQ 39.84375 48.1875 33.796875 48.1875 \nQ 26.515625 48.1875 22.3125 43.546875 \nQ 18.109375 38.921875 18.109375 30.90625 \nL 18.109375 0 \nL 9.078125 0 \nL 9.078125 54.6875 \nL 18.109375 54.6875 \nL 18.109375 46.1875 \nQ 21.34375 51.125 25.703125 53.5625 \nQ 30.078125 56 35.796875 56 \nQ 45.21875 56 50.046875 50.171875 \nQ 54.890625 44.34375 54.890625 33.015625 \nz\n\" id=\"DejaVuSans-110\"/>\n      <path d=\"M 18.3125 70.21875 \nL 18.3125 54.6875 \nL 36.8125 54.6875 \nL 36.8125 47.703125 \nL 18.3125 47.703125 \nL 18.3125 18.015625 \nQ 18.3125 11.328125 20.140625 9.421875 \nQ 21.96875 7.515625 27.59375 7.515625 \nL 36.8125 7.515625 \nL 36.8125 0 \nL 27.59375 0 \nQ 17.1875 0 13.234375 3.875 \nQ 9.28125 7.765625 9.28125 18.015625 \nL 9.28125 47.703125 \nL 2.6875 47.703125 \nL 2.6875 54.6875 \nL 9.28125 54.6875 \nL 9.28125 70.21875 \nz\n\" id=\"DejaVuSans-116\"/>\n      <path d=\"M 54.890625 33.015625 \nL 54.890625 0 \nL 45.90625 0 \nL 45.90625 32.71875 \nQ 45.90625 40.484375 42.875 44.328125 \nQ 39.84375 48.1875 33.796875 48.1875 \nQ 26.515625 48.1875 22.3125 43.546875 \nQ 18.109375 38.921875 18.109375 30.90625 \nL 18.109375 0 \nL 9.078125 0 \nL 9.078125 75.984375 \nL 18.109375 75.984375 \nL 18.109375 46.1875 \nQ 21.34375 51.125 25.703125 53.5625 \nQ 30.078125 56 35.796875 56 \nQ 45.21875 56 50.046875 50.171875 \nQ 54.890625 44.34375 54.890625 33.015625 \nz\n\" id=\"DejaVuSans-104\"/>\n      <path d=\"M 44.28125 53.078125 \nL 44.28125 44.578125 \nQ 40.484375 46.53125 36.375 47.5 \nQ 32.28125 48.484375 27.875 48.484375 \nQ 21.1875 48.484375 17.84375 46.4375 \nQ 14.5 44.390625 14.5 40.28125 \nQ 14.5 37.15625 16.890625 35.375 \nQ 19.28125 33.59375 26.515625 31.984375 \nL 29.59375 31.296875 \nQ 39.15625 29.25 43.1875 25.515625 \nQ 47.21875 21.78125 47.21875 15.09375 \nQ 47.21875 7.46875 41.1875 3.015625 \nQ 35.15625 -1.421875 24.609375 -1.421875 \nQ 20.21875 -1.421875 15.453125 -0.5625 \nQ 10.6875 0.296875 5.421875 2 \nL 5.421875 11.28125 \nQ 10.40625 8.6875 15.234375 7.390625 \nQ 20.0625 6.109375 24.8125 6.109375 \nQ 31.15625 6.109375 34.5625 8.28125 \nQ 37.984375 10.453125 37.984375 14.40625 \nQ 37.984375 18.0625 35.515625 20.015625 \nQ 33.0625 21.96875 24.703125 23.78125 \nL 21.578125 24.515625 \nQ 13.234375 26.265625 9.515625 29.90625 \nQ 5.8125 33.546875 5.8125 39.890625 \nQ 5.8125 47.609375 11.28125 51.796875 \nQ 16.75 56 26.8125 56 \nQ 31.78125 56 36.171875 55.265625 \nQ 40.578125 54.546875 44.28125 53.078125 \nz\n\" id=\"DejaVuSans-115\"/>\n     </defs>\n     <g transform=\"translate(183.364844 263.515)scale(0.1 -0.1)\">\n      <use xlink:href=\"#DejaVuSans-77\"/>\n      <use x=\"86.279297\" xlink:href=\"#DejaVuSans-111\"/>\n      <use x=\"147.460938\" xlink:href=\"#DejaVuSans-110\"/>\n      <use x=\"210.839844\" xlink:href=\"#DejaVuSans-116\"/>\n      <use x=\"250.048828\" xlink:href=\"#DejaVuSans-104\"/>\n      <use x=\"313.427734\" xlink:href=\"#DejaVuSans-115\"/>\n     </g>\n    </g>\n   </g>\n   <g id=\"matplotlib.axis_2\">\n    <g id=\"ytick_1\">\n     <g id=\"line2d_13\">\n      <defs>\n       <path d=\"M 0 0 \nL -3.5 0 \n\" id=\"m061ce71f03\" style=\"stroke:#000000;stroke-width:0.8;\"/>\n      </defs>\n      <g>\n       <use style=\"stroke:#000000;stroke-width:0.8;\" x=\"34.240625\" xlink:href=\"#m061ce71f03\" y=\"235.238438\"/>\n      </g>\n     </g>\n     <g id=\"text_14\">\n      <!-- 0 -->\n      <g transform=\"translate(20.878125 239.037656)scale(0.1 -0.1)\">\n       <use xlink:href=\"#DejaVuSans-48\"/>\n      </g>\n     </g>\n    </g>\n    <g id=\"ytick_2\">\n     <g id=\"line2d_14\">\n      <g>\n       <use style=\"stroke:#000000;stroke-width:0.8;\" x=\"34.240625\" xlink:href=\"#m061ce71f03\" y=\"190.350986\"/>\n      </g>\n     </g>\n     <g id=\"text_15\">\n      <!-- 1 -->\n      <g transform=\"translate(20.878125 194.150205)scale(0.1 -0.1)\">\n       <use xlink:href=\"#DejaVuSans-49\"/>\n      </g>\n     </g>\n    </g>\n    <g id=\"ytick_3\">\n     <g id=\"line2d_15\">\n      <g>\n       <use style=\"stroke:#000000;stroke-width:0.8;\" x=\"34.240625\" xlink:href=\"#m061ce71f03\" y=\"145.463534\"/>\n      </g>\n     </g>\n     <g id=\"text_16\">\n      <!-- 2 -->\n      <g transform=\"translate(20.878125 149.262753)scale(0.1 -0.1)\">\n       <use xlink:href=\"#DejaVuSans-50\"/>\n      </g>\n     </g>\n    </g>\n    <g id=\"ytick_4\">\n     <g id=\"line2d_16\">\n      <g>\n       <use style=\"stroke:#000000;stroke-width:0.8;\" x=\"34.240625\" xlink:href=\"#m061ce71f03\" y=\"100.576083\"/>\n      </g>\n     </g>\n     <g id=\"text_17\">\n      <!-- 3 -->\n      <g transform=\"translate(20.878125 104.375302)scale(0.1 -0.1)\">\n       <use xlink:href=\"#DejaVuSans-51\"/>\n      </g>\n     </g>\n    </g>\n    <g id=\"ytick_5\">\n     <g id=\"line2d_17\">\n      <g>\n       <use style=\"stroke:#000000;stroke-width:0.8;\" x=\"34.240625\" xlink:href=\"#m061ce71f03\" y=\"55.688631\"/>\n      </g>\n     </g>\n     <g id=\"text_18\">\n      <!-- 4 -->\n      <g transform=\"translate(20.878125 59.48785)scale(0.1 -0.1)\">\n       <use xlink:href=\"#DejaVuSans-52\"/>\n      </g>\n     </g>\n    </g>\n    <g id=\"text_19\">\n     <!-- Sales in USD ($) -->\n     <defs>\n      <path d=\"M 53.515625 70.515625 \nL 53.515625 60.890625 \nQ 47.90625 63.578125 42.921875 64.890625 \nQ 37.9375 66.21875 33.296875 66.21875 \nQ 25.25 66.21875 20.875 63.09375 \nQ 16.5 59.96875 16.5 54.203125 \nQ 16.5 49.359375 19.40625 46.890625 \nQ 22.3125 44.4375 30.421875 42.921875 \nL 36.375 41.703125 \nQ 47.40625 39.59375 52.65625 34.296875 \nQ 57.90625 29 57.90625 20.125 \nQ 57.90625 9.515625 50.796875 4.046875 \nQ 43.703125 -1.421875 29.984375 -1.421875 \nQ 24.8125 -1.421875 18.96875 -0.25 \nQ 13.140625 0.921875 6.890625 3.21875 \nL 6.890625 13.375 \nQ 12.890625 10.015625 18.65625 8.296875 \nQ 24.421875 6.59375 29.984375 6.59375 \nQ 38.421875 6.59375 43.015625 9.90625 \nQ 47.609375 13.234375 47.609375 19.390625 \nQ 47.609375 24.75 44.3125 27.78125 \nQ 41.015625 30.8125 33.5 32.328125 \nL 27.484375 33.5 \nQ 16.453125 35.6875 11.515625 40.375 \nQ 6.59375 45.0625 6.59375 53.421875 \nQ 6.59375 63.09375 13.40625 68.65625 \nQ 20.21875 74.21875 32.171875 74.21875 \nQ 37.3125 74.21875 42.625 73.28125 \nQ 47.953125 72.359375 53.515625 70.515625 \nz\n\" id=\"DejaVuSans-83\"/>\n      <path d=\"M 34.28125 27.484375 \nQ 23.390625 27.484375 19.1875 25 \nQ 14.984375 22.515625 14.984375 16.5 \nQ 14.984375 11.71875 18.140625 8.90625 \nQ 21.296875 6.109375 26.703125 6.109375 \nQ 34.1875 6.109375 38.703125 11.40625 \nQ 43.21875 16.703125 43.21875 25.484375 \nL 43.21875 27.484375 \nz\nM 52.203125 31.203125 \nL 52.203125 0 \nL 43.21875 0 \nL 43.21875 8.296875 \nQ 40.140625 3.328125 35.546875 0.953125 \nQ 30.953125 -1.421875 24.3125 -1.421875 \nQ 15.921875 -1.421875 10.953125 3.296875 \nQ 6 8.015625 6 15.921875 \nQ 6 25.140625 12.171875 29.828125 \nQ 18.359375 34.515625 30.609375 34.515625 \nL 43.21875 34.515625 \nL 43.21875 35.40625 \nQ 43.21875 41.609375 39.140625 45 \nQ 35.0625 48.390625 27.6875 48.390625 \nQ 23 48.390625 18.546875 47.265625 \nQ 14.109375 46.140625 10.015625 43.890625 \nL 10.015625 52.203125 \nQ 14.9375 54.109375 19.578125 55.046875 \nQ 24.21875 56 28.609375 56 \nQ 40.484375 56 46.34375 49.84375 \nQ 52.203125 43.703125 52.203125 31.203125 \nz\n\" id=\"DejaVuSans-97\"/>\n      <path d=\"M 9.421875 75.984375 \nL 18.40625 75.984375 \nL 18.40625 0 \nL 9.421875 0 \nz\n\" id=\"DejaVuSans-108\"/>\n      <path d=\"M 56.203125 29.59375 \nL 56.203125 25.203125 \nL 14.890625 25.203125 \nQ 15.484375 15.921875 20.484375 11.0625 \nQ 25.484375 6.203125 34.421875 6.203125 \nQ 39.59375 6.203125 44.453125 7.46875 \nQ 49.3125 8.734375 54.109375 11.28125 \nL 54.109375 2.78125 \nQ 49.265625 0.734375 44.1875 -0.34375 \nQ 39.109375 -1.421875 33.890625 -1.421875 \nQ 20.796875 -1.421875 13.15625 6.1875 \nQ 5.515625 13.8125 5.515625 26.8125 \nQ 5.515625 40.234375 12.765625 48.109375 \nQ 20.015625 56 32.328125 56 \nQ 43.359375 56 49.78125 48.890625 \nQ 56.203125 41.796875 56.203125 29.59375 \nz\nM 47.21875 32.234375 \nQ 47.125 39.59375 43.09375 43.984375 \nQ 39.0625 48.390625 32.421875 48.390625 \nQ 24.90625 48.390625 20.390625 44.140625 \nQ 15.875 39.890625 15.1875 32.171875 \nz\n\" id=\"DejaVuSans-101\"/>\n      <path id=\"DejaVuSans-32\"/>\n      <path d=\"M 9.421875 54.6875 \nL 18.40625 54.6875 \nL 18.40625 0 \nL 9.421875 0 \nz\nM 9.421875 75.984375 \nL 18.40625 75.984375 \nL 18.40625 64.59375 \nL 9.421875 64.59375 \nz\n\" id=\"DejaVuSans-105\"/>\n      <path d=\"M 8.6875 72.90625 \nL 18.609375 72.90625 \nL 18.609375 28.609375 \nQ 18.609375 16.890625 22.84375 11.734375 \nQ 27.09375 6.59375 36.625 6.59375 \nQ 46.09375 6.59375 50.34375 11.734375 \nQ 54.59375 16.890625 54.59375 28.609375 \nL 54.59375 72.90625 \nL 64.5 72.90625 \nL 64.5 27.390625 \nQ 64.5 13.140625 57.4375 5.859375 \nQ 50.390625 -1.421875 36.625 -1.421875 \nQ 22.796875 -1.421875 15.734375 5.859375 \nQ 8.6875 13.140625 8.6875 27.390625 \nz\n\" id=\"DejaVuSans-85\"/>\n      <path d=\"M 19.671875 64.796875 \nL 19.671875 8.109375 \nL 31.59375 8.109375 \nQ 46.6875 8.109375 53.6875 14.9375 \nQ 60.6875 21.78125 60.6875 36.53125 \nQ 60.6875 51.171875 53.6875 57.984375 \nQ 46.6875 64.796875 31.59375 64.796875 \nz\nM 9.8125 72.90625 \nL 30.078125 72.90625 \nQ 51.265625 72.90625 61.171875 64.09375 \nQ 71.09375 55.28125 71.09375 36.53125 \nQ 71.09375 17.671875 61.125 8.828125 \nQ 51.171875 0 30.078125 0 \nL 9.8125 0 \nz\n\" id=\"DejaVuSans-68\"/>\n      <path d=\"M 31 75.875 \nQ 24.46875 64.65625 21.28125 53.65625 \nQ 18.109375 42.671875 18.109375 31.390625 \nQ 18.109375 20.125 21.3125 9.0625 \nQ 24.515625 -2 31 -13.1875 \nL 23.1875 -13.1875 \nQ 15.875 -1.703125 12.234375 9.375 \nQ 8.59375 20.453125 8.59375 31.390625 \nQ 8.59375 42.28125 12.203125 53.3125 \nQ 15.828125 64.359375 23.1875 75.875 \nz\n\" id=\"DejaVuSans-40\"/>\n      <path d=\"M 33.796875 -14.703125 \nL 28.90625 -14.703125 \nL 28.859375 0 \nQ 23.734375 0.09375 18.609375 1.1875 \nQ 13.484375 2.296875 8.296875 4.5 \nL 8.296875 13.28125 \nQ 13.28125 10.15625 18.375 8.5625 \nQ 23.484375 6.984375 28.90625 6.9375 \nL 28.90625 29.203125 \nQ 18.109375 30.953125 13.203125 35.15625 \nQ 8.296875 39.359375 8.296875 46.6875 \nQ 8.296875 54.640625 13.625 59.21875 \nQ 18.953125 63.8125 28.90625 64.5 \nL 28.90625 75.984375 \nL 33.796875 75.984375 \nL 33.796875 64.65625 \nQ 38.328125 64.453125 42.578125 63.6875 \nQ 46.828125 62.9375 50.875 61.625 \nL 50.875 53.078125 \nQ 46.828125 55.125 42.546875 56.25 \nQ 38.28125 57.375 33.796875 57.5625 \nL 33.796875 36.71875 \nQ 44.875 35.015625 50.09375 30.609375 \nQ 55.328125 26.21875 55.328125 18.609375 \nQ 55.328125 10.359375 49.78125 5.59375 \nQ 44.234375 0.828125 33.796875 0.09375 \nz\nM 28.90625 37.59375 \nL 28.90625 57.625 \nQ 23.25 56.984375 20.265625 54.390625 \nQ 17.28125 51.8125 17.28125 47.515625 \nQ 17.28125 43.3125 20.03125 40.96875 \nQ 22.796875 38.625 28.90625 37.59375 \nz\nM 33.796875 28.21875 \nL 33.796875 7.078125 \nQ 39.984375 7.90625 43.140625 10.59375 \nQ 46.296875 13.28125 46.296875 17.671875 \nQ 46.296875 21.96875 43.28125 24.5 \nQ 40.28125 27.046875 33.796875 28.21875 \nz\n\" id=\"DejaVuSans-36\"/>\n      <path d=\"M 8.015625 75.875 \nL 15.828125 75.875 \nQ 23.140625 64.359375 26.78125 53.3125 \nQ 30.421875 42.28125 30.421875 31.390625 \nQ 30.421875 20.453125 26.78125 9.375 \nQ 23.140625 -1.703125 15.828125 -13.1875 \nL 8.015625 -13.1875 \nQ 14.5 -2 17.703125 9.0625 \nQ 20.90625 20.125 20.90625 31.390625 \nQ 20.90625 42.671875 17.703125 53.65625 \nQ 14.5 64.65625 8.015625 75.875 \nz\n\" id=\"DejaVuSans-41\"/>\n     </defs>\n     <g transform=\"translate(14.798437 166.918438)rotate(-90)scale(0.1 -0.1)\">\n      <use xlink:href=\"#DejaVuSans-83\"/>\n      <use x=\"63.476562\" xlink:href=\"#DejaVuSans-97\"/>\n      <use x=\"124.755859\" xlink:href=\"#DejaVuSans-108\"/>\n      <use x=\"152.539062\" xlink:href=\"#DejaVuSans-101\"/>\n      <use x=\"214.0625\" xlink:href=\"#DejaVuSans-115\"/>\n      <use x=\"266.162109\" xlink:href=\"#DejaVuSans-32\"/>\n      <use x=\"297.949219\" xlink:href=\"#DejaVuSans-105\"/>\n      <use x=\"325.732422\" xlink:href=\"#DejaVuSans-110\"/>\n      <use x=\"389.111328\" xlink:href=\"#DejaVuSans-32\"/>\n      <use x=\"420.898438\" xlink:href=\"#DejaVuSans-85\"/>\n      <use x=\"494.091797\" xlink:href=\"#DejaVuSans-83\"/>\n      <use x=\"557.568359\" xlink:href=\"#DejaVuSans-68\"/>\n      <use x=\"634.570312\" xlink:href=\"#DejaVuSans-32\"/>\n      <use x=\"666.357422\" xlink:href=\"#DejaVuSans-40\"/>\n      <use x=\"705.371094\" xlink:href=\"#DejaVuSans-36\"/>\n      <use x=\"768.994141\" xlink:href=\"#DejaVuSans-41\"/>\n     </g>\n    </g>\n    <g id=\"text_20\">\n     <!-- 1e6 -->\n     <g transform=\"translate(34.240625 14.798437)scale(0.1 -0.1)\">\n      <use xlink:href=\"#DejaVuSans-49\"/>\n      <use x=\"63.623047\" xlink:href=\"#DejaVuSans-101\"/>\n      <use x=\"125.146484\" xlink:href=\"#DejaVuSans-54\"/>\n     </g>\n    </g>\n   </g>\n   <g id=\"patch_15\">\n    <path d=\"M 34.240625 235.238438 \nL 34.240625 17.798438 \n\" style=\"fill:none;stroke:#000000;stroke-linecap:square;stroke-linejoin:miter;stroke-width:0.8;\"/>\n   </g>\n   <g id=\"patch_16\">\n    <path d=\"M 369.040625 235.238438 \nL 369.040625 17.798438 \n\" style=\"fill:none;stroke:#000000;stroke-linecap:square;stroke-linejoin:miter;stroke-width:0.8;\"/>\n   </g>\n   <g id=\"patch_17\">\n    <path d=\"M 34.240625 235.238438 \nL 369.040625 235.238438 \n\" style=\"fill:none;stroke:#000000;stroke-linecap:square;stroke-linejoin:miter;stroke-width:0.8;\"/>\n   </g>\n   <g id=\"patch_18\">\n    <path d=\"M 34.240625 17.798438 \nL 369.040625 17.798438 \n\" style=\"fill:none;stroke:#000000;stroke-linecap:square;stroke-linejoin:miter;stroke-width:0.8;\"/>\n   </g>\n  </g>\n </g>\n <defs>\n  <clipPath id=\"p51fdfb6c8f\">\n   <rect height=\"217.44\" width=\"334.8\" x=\"34.240625\" y=\"17.798438\"/>\n  </clipPath>\n </defs>\n</svg>\n",
      "image/png": "[encoded data removed]"
     },
     "metadata": {
      "needs_background": "light"
     }
    }
   ],
   "source": [
    "# visualise the results\n",
    "\n",
    "months = range(1, 13)\n",
    "plt.bar(months, results['Sales'])\n",
    "plt.xticks(months)\n",
    "plt.ylabel('Sales in USD ($)')\n",
    "plt.xlabel('Months')\n",
    "plt.show()\n"
   ]
  },
  {
   "cell_type": "markdown",
   "metadata": {},
   "source": [
    "#### Queation 2: What city had the highest number of sales?"
   ]
  },
  {
   "cell_type": "code",
   "execution_count": null,
   "metadata": {},
   "outputs": [],
   "source": []
  },
  {
   "cell_type": "code",
   "execution_count": null,
   "metadata": {},
   "outputs": [],
   "source": []
  },
  {
   "cell_type": "code",
   "execution_count": null,
   "metadata": {},
   "outputs": [],
   "source": []
  },
  {
   "cell_type": "code",
   "execution_count": null,
   "metadata": {},
   "outputs": [],
   "source": []
  }
 ],
 "metadata": {
  "kernelspec": {
   "display_name": "Python 3",
   "language": "python",
   "name": "python3"
  },
  "language_info": {
   "codemirror_mode": {
    "name": "ipython",
    "version": 3
   },
   "file_extension": ".py",
   "mimetype": "text/x-python",
   "name": "python",
   "nbconvert_exporter": "python",
   "pygments_lexer": "ipython3",
   "version": "3.8.3-final"
  }
 },
 "nbformat": 4,
 "nbformat_minor": 4
}