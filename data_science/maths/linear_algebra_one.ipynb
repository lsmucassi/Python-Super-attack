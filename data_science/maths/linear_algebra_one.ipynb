{
 "metadata": {
  "language_info": {
   "codemirror_mode": {
    "name": "ipython",
    "version": 3
   },
   "file_extension": ".py",
   "mimetype": "text/x-python",
   "name": "python",
   "nbconvert_exporter": "python",
   "pygments_lexer": "ipython3",
   "version": "3.8.2-final"
  },
  "orig_nbformat": 2,
  "kernelspec": {
   "name": "python38264bit3cdd97de52a24b9daf52c2ea50aadc7e",
   "display_name": "Python 3.8.2 64-bit"
  }
 },
 "nbformat": 4,
 "nbformat_minor": 2,
 "cells": [
  {
   "cell_type": "markdown",
   "metadata": {},
   "source": [
    "Becoming a  Data Scientist\n",
    "Learning linear algebra using numpy.\n",
    "[ PART ONE ]"
   ]
  },
  {
   "cell_type": "code",
   "execution_count": 1,
   "metadata": {
    "tags": []
   },
   "outputs": [
    {
     "output_type": "execute_result",
     "data": {
      "text/plain": "numpy.ndarray"
     },
     "metadata": {},
     "execution_count": 1
    }
   ],
   "source": [
    "import numpy as np\n",
    "\n",
    "a = np.array([145,24,33,44,65])\n",
    "a\n",
    "type(a)"
   ]
  },
  {
   "cell_type": "markdown",
   "metadata": {},
   "source": [
    "Indexing elements in a numpy array"
   ]
  },
  {
   "cell_type": "code",
   "execution_count": 2,
   "metadata": {},
   "outputs": [
    {
     "output_type": "execute_result",
     "data": {
      "text/plain": "array([33, 44])"
     },
     "metadata": {},
     "execution_count": 2
    }
   ],
   "source": [
    "a[2:4]"
   ]
  },
  {
   "cell_type": "markdown",
   "metadata": {},
   "source": [
    "Getting a dimmension of an arrays"
   ]
  },
  {
   "cell_type": "code",
   "execution_count": 3,
   "metadata": {},
   "outputs": [
    {
     "output_type": "execute_result",
     "data": {
      "text/plain": "(5,)"
     },
     "metadata": {},
     "execution_count": 3
    }
   ],
   "source": [
    "a.shape"
   ]
  },
  {
   "cell_type": "code",
   "execution_count": 10,
   "metadata": {},
   "outputs": [
    {
     "output_type": "execute_result",
     "data": {
      "text/plain": "array([[564,  65,  65,  74],\n       [654,  65,   4, 654],\n       [  6,   5,  78,   5],\n       [ 68, 546,  54, 454],\n       [ 87,  45,  65, 456],\n       [  4, 478, 114,  45],\n       [ 45, 369,   6,  47]])"
     },
     "metadata": {},
     "execution_count": 10
    }
   ],
   "source": [
    "b = np.array([[564,65,65,74],[654,65,4,654],[6,5,78,5],[68,546,54,454],[87,45,65,456],[4,478,114,45],[45,369,6,47]])\n",
    "b"
   ]
  },
  {
   "cell_type": "code",
   "execution_count": 11,
   "metadata": {},
   "outputs": [
    {
     "output_type": "execute_result",
     "data": {
      "text/plain": "(7, 4)"
     },
     "metadata": {},
     "execution_count": 11
    }
   ],
   "source": [
    "b.shape"
   ]
  },
  {
   "cell_type": "code",
   "execution_count": 12,
   "metadata": {},
   "outputs": [
    {
     "output_type": "execute_result",
     "data": {
      "text/plain": "array([[  6,   5,  78,   5],\n       [ 68, 546,  54, 454]])"
     },
     "metadata": {},
     "execution_count": 12
    }
   ],
   "source": [
    "b[2:4]"
   ]
  },
  {
   "cell_type": "code",
   "execution_count": 13,
   "metadata": {},
   "outputs": [
    {
     "output_type": "execute_result",
     "data": {
      "text/plain": "array([[654]])"
     },
     "metadata": {},
     "execution_count": 13
    }
   ],
   "source": [
    "b[1:2,3:]"
   ]
  },
  {
   "cell_type": "code",
   "execution_count": 20,
   "metadata": {},
   "outputs": [],
   "source": [
    "C = np.eye(5)"
   ]
  },
  {
   "cell_type": "code",
   "execution_count": 21,
   "metadata": {},
   "outputs": [
    {
     "output_type": "execute_result",
     "data": {
      "text/plain": "array([[1., 0., 0., 0., 0.],\n       [0., 1., 0., 0., 0.],\n       [0., 0., 1., 0., 0.],\n       [0., 0., 0., 1., 0.],\n       [0., 0., 0., 0., 1.]])"
     },
     "metadata": {},
     "execution_count": 21
    }
   ],
   "source": [
    "C"
   ]
  },
  {
   "cell_type": "code",
   "execution_count": 22,
   "metadata": {},
   "outputs": [
    {
     "output_type": "execute_result",
     "data": {
      "text/plain": "array([[0., 0., 0., 0., 0.],\n       [0., 0., 0., 0., 0.],\n       [0., 0., 0., 0., 0.],\n       [0., 0., 0., 0., 0.],\n       [0., 0., 0., 0., 0.]])"
     },
     "metadata": {},
     "execution_count": 22
    }
   ],
   "source": [
    "np.zeros((5,5))"
   ]
  },
  {
   "cell_type": "code",
   "execution_count": 23,
   "metadata": {},
   "outputs": [
    {
     "output_type": "execute_result",
     "data": {
      "text/plain": "array([[1., 1., 1., 1.],\n       [1., 1., 1., 1.],\n       [1., 1., 1., 1.],\n       [1., 1., 1., 1.],\n       [1., 1., 1., 1.],\n       [1., 1., 1., 1.]])"
     },
     "metadata": {},
     "execution_count": 23
    }
   ],
   "source": [
    "np.ones((6,4))"
   ]
  },
  {
   "cell_type": "code",
   "execution_count": 25,
   "metadata": {},
   "outputs": [
    {
     "output_type": "execute_result",
     "data": {
      "text/plain": "array([[10, 10, 10, 10, 10, 10],\n       [10, 10, 10, 10, 10, 10],\n       [10, 10, 10, 10, 10, 10],\n       [10, 10, 10, 10, 10, 10]])"
     },
     "metadata": {},
     "execution_count": 25
    }
   ],
   "source": [
    "c = np.full((4,6),10)\n",
    "c"
   ]
  },
  {
   "cell_type": "code",
   "execution_count": 27,
   "metadata": {},
   "outputs": [
    {
     "output_type": "execute_result",
     "data": {
      "text/plain": "array([[0.0718908 , 0.07939577],\n       [0.99000322, 0.3938062 ]])"
     },
     "metadata": {},
     "execution_count": 27
    }
   ],
   "source": [
    "d = np.random.random((2,2))\n",
    "d"
   ]
  },
  {
   "cell_type": "code",
   "execution_count": 28,
   "metadata": {},
   "outputs": [
    {
     "output_type": "execute_result",
     "data": {
      "text/plain": "0.03336587702199756"
     },
     "metadata": {},
     "execution_count": 28
    }
   ],
   "source": [
    "np.random.random()"
   ]
  },
  {
   "cell_type": "code",
   "execution_count": 29,
   "metadata": {},
   "outputs": [
    {
     "output_type": "execute_result",
     "data": {
      "text/plain": "array([[0.09776277, 0.80141115, 0.91502485, ..., 0.64676808, 0.33217207,\n        0.45606664],\n       [0.47630897, 0.1106279 , 0.59567676, ..., 0.53566847, 0.88723466,\n        0.42385898],\n       [0.40442997, 0.35886901, 0.15176712, ..., 0.83736939, 0.2621538 ,\n        0.71463154],\n       ...,\n       [0.45604044, 0.74542952, 0.12756856, ..., 0.14212579, 0.11726483,\n        0.30451214],\n       [0.79898066, 0.81912323, 0.16588651, ..., 0.5575386 , 0.36469445,\n        0.06458753],\n       [0.38571069, 0.8225302 , 0.46567981, ..., 0.26213677, 0.54837038,\n        0.48629764]])"
     },
     "metadata": {},
     "execution_count": 29
    }
   ],
   "source": [
    "e = np.random.random((10000,20))\n",
    "e"
   ]
  },
  {
   "cell_type": "code",
   "execution_count": 30,
   "metadata": {},
   "outputs": [
    {
     "output_type": "execute_result",
     "data": {
      "text/plain": "0.4985230610187105"
     },
     "metadata": {},
     "execution_count": 30
    }
   ],
   "source": [
    "np.mean(e)"
   ]
  },
  {
   "cell_type": "markdown",
   "metadata": {},
   "source": [
    "$$Var(x) = E(x^2) - E^2(x) = \\int_{0}^1 x^2 \\ dx - \\frac1 4 = \\frac1 3 - \\frac1 4 = \\frac1{12}$$ "
   ]
  },
  {
   "cell_type": "code",
   "execution_count": 34,
   "metadata": {},
   "outputs": [
    {
     "output_type": "execute_result",
     "data": {
      "text/plain": "0.08304333786444805"
     },
     "metadata": {},
     "execution_count": 34
    }
   ],
   "source": [
    "np.std(e)**2"
   ]
  },
  {
   "cell_type": "code",
   "execution_count": 35,
   "metadata": {},
   "outputs": [
    {
     "output_type": "execute_result",
     "data": {
      "text/plain": "0.08333333333333333"
     },
     "metadata": {},
     "execution_count": 35
    }
   ],
   "source": [
    "1/12"
   ]
  },
  {
   "cell_type": "code",
   "execution_count": 40,
   "metadata": {
    "tags": []
   },
   "outputs": [
    {
     "output_type": "stream",
     "name": "stdout",
     "text": "int64\nint64\nint64\nfloat64\nfloat64\n"
    }
   ],
   "source": [
    "print(a.dtype)\n",
    "print(b.dtype)\n",
    "print(c.dtype)\n",
    "print(C.dtype)\n",
    "print(e.dtype)"
   ]
  }
 ]
}