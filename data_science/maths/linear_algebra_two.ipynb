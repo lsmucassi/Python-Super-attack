{
 "metadata": {
  "language_info": {
   "codemirror_mode": {
    "name": "ipython",
    "version": 3
   },
   "file_extension": ".py",
   "mimetype": "text/x-python",
   "name": "python",
   "nbconvert_exporter": "python",
   "pygments_lexer": "ipython3",
   "version": "3.8.2-final"
  },
  "orig_nbformat": 2,
  "kernelspec": {
   "name": "python38264bit3cdd97de52a24b9daf52c2ea50aadc7e",
   "display_name": "Python 3.8.2 64-bit"
  }
 },
 "nbformat": 4,
 "nbformat_minor": 2,
 "cells": [
  {
   "cell_type": "markdown",
   "metadata": {},
   "source": [
    "Becoming a  Data Scientist\n",
    "Learning linear algebra using numpy.\n",
    "[ PART TWO ]\n",
    "- MATRIX"
   ]
  },
  {
   "cell_type": "code",
   "execution_count": 9,
   "metadata": {},
   "outputs": [],
   "source": [
    "import numpy as np \n"
   ]
  },
  {
   "cell_type": "markdown",
   "metadata": {},
   "source": [
    "MATRIX ADDITION"
   ]
  },
  {
   "cell_type": "code",
   "execution_count": 10,
   "metadata": {},
   "outputs": [
    {
     "output_type": "execute_result",
     "data": {
      "text/plain": "array([[ 1,  5,  6],\n       [ 1,  8,  9],\n       [ 0, -1,  6]])"
     },
     "metadata": {},
     "execution_count": 10
    }
   ],
   "source": [
    "A = np.array([[1,5,6],[1,8,9],[0,-1,6]])\n",
    "B = np.array([[4,8,4],[1,0,5],[6,-8,4]])\n",
    "A"
   ]
  },
  {
   "cell_type": "code",
   "execution_count": 11,
   "metadata": {},
   "outputs": [
    {
     "output_type": "execute_result",
     "data": {
      "text/plain": "array([[ 4,  8,  4],\n       [ 1,  0,  5],\n       [ 6, -8,  4]])"
     },
     "metadata": {},
     "execution_count": 11
    }
   ],
   "source": [
    "B"
   ]
  },
  {
   "cell_type": "code",
   "execution_count": 12,
   "metadata": {},
   "outputs": [
    {
     "output_type": "execute_result",
     "data": {
      "text/plain": "array([[ 5, 13, 10],\n       [ 2,  8, 14],\n       [ 6, -9, 10]])"
     },
     "metadata": {},
     "execution_count": 12
    }
   ],
   "source": [
    "A+B"
   ]
  },
  {
   "cell_type": "code",
   "execution_count": 13,
   "metadata": {},
   "outputs": [],
   "source": [
    "C = A+B"
   ]
  },
  {
   "cell_type": "code",
   "execution_count": 14,
   "metadata": {},
   "outputs": [
    {
     "output_type": "execute_result",
     "data": {
      "text/plain": "array([[ 5, 13, 10],\n       [ 2,  8, 14],\n       [ 6, -9, 10]])"
     },
     "metadata": {},
     "execution_count": 14
    }
   ],
   "source": [
    "np.add(A,B)"
   ]
  },
  {
   "cell_type": "code",
   "execution_count": 15,
   "metadata": {},
   "outputs": [
    {
     "output_type": "execute_result",
     "data": {
      "text/plain": "array([[ 5., 13., 10.],\n       [ 2.,  8., 14.],\n       [ 6., -9., 10.]], dtype=float128)"
     },
     "metadata": {},
     "execution_count": 15
    }
   ],
   "source": [
    "# casting the reults to a different type\n",
    "np.add(A, B, dtype = np.float128)"
   ]
  },
  {
   "cell_type": "markdown",
   "metadata": {},
   "source": [
    "MATRIX SUBRACTION"
   ]
  },
  {
   "cell_type": "code",
   "execution_count": 17,
   "metadata": {},
   "outputs": [
    {
     "output_type": "execute_result",
     "data": {
      "text/plain": "array([[-3, -3,  2],\n       [ 0,  8,  4],\n       [-6,  7,  2]])"
     },
     "metadata": {},
     "execution_count": 17
    }
   ],
   "source": [
    "D = A-B\n",
    "D"
   ]
  },
  {
   "cell_type": "code",
   "execution_count": 18,
   "metadata": {},
   "outputs": [
    {
     "output_type": "execute_result",
     "data": {
      "text/plain": "array([[-3, -3,  2],\n       [ 0,  8,  4],\n       [-6,  7,  2]])"
     },
     "metadata": {},
     "execution_count": 18
    }
   ],
   "source": [
    "np.subtract(A,B)"
   ]
  },
  {
   "cell_type": "code",
   "execution_count": 19,
   "metadata": {},
   "outputs": [
    {
     "output_type": "execute_result",
     "data": {
      "text/plain": "array([[-3., -3.,  2.],\n       [ 0.,  8.,  4.],\n       [-6.,  7.,  2.]])"
     },
     "metadata": {},
     "execution_count": 19
    }
   ],
   "source": [
    "np.subtract(A, B, dtype = np.float64)"
   ]
  },
  {
   "cell_type": "markdown",
   "metadata": {},
   "source": [
    "MATRIX MULTIPLICATION(POINTWISE MULTIPLICATION)"
   ]
  },
  {
   "cell_type": "code",
   "execution_count": null,
   "metadata": {},
   "outputs": [],
   "source": []
  }
 ]
}