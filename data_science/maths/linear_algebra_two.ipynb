{
 "metadata": {
  "language_info": {
   "codemirror_mode": {
    "name": "ipython",
    "version": 3
   },
   "file_extension": ".py",
   "mimetype": "text/x-python",
   "name": "python",
   "nbconvert_exporter": "python",
   "pygments_lexer": "ipython3",
   "version": "3.8.2-final"
  },
  "orig_nbformat": 2,
  "kernelspec": {
   "name": "python38264bit3cdd97de52a24b9daf52c2ea50aadc7e",
   "display_name": "Python 3.8.2 64-bit"
  }
 },
 "nbformat": 4,
 "nbformat_minor": 2,
 "cells": [
  {
   "cell_type": "markdown",
   "metadata": {},
   "source": [
    "Becoming a  Data Scientist\n",
    "Learning linear algebra using numpy.\n",
    "[ PART TWO ]\n",
    "- # MATRIX"
   ]
  },
  {
   "cell_type": "code",
   "execution_count": 33,
   "metadata": {},
   "outputs": [],
   "source": [
    "import numpy as np \n"
   ]
  },
  {
   "cell_type": "markdown",
   "metadata": {},
   "source": [
    "MATRIX ADDITION"
   ]
  },
  {
   "cell_type": "code",
   "execution_count": 34,
   "metadata": {},
   "outputs": [
    {
     "output_type": "execute_result",
     "data": {
      "text/plain": "array([[ 1,  5,  6],\n       [ 1,  8,  9],\n       [ 0, -1,  6]])"
     },
     "metadata": {},
     "execution_count": 34
    }
   ],
   "source": [
    "A = np.array([[1,5,6],[1,8,9],[0,-1,6]])\n",
    "B = np.array([[4,8,4],[1,0,5],[6,-8,4]])\n",
    "A"
   ]
  },
  {
   "cell_type": "code",
   "execution_count": 35,
   "metadata": {},
   "outputs": [
    {
     "output_type": "execute_result",
     "data": {
      "text/plain": "array([[ 4,  8,  4],\n       [ 1,  0,  5],\n       [ 6, -8,  4]])"
     },
     "metadata": {},
     "execution_count": 35
    }
   ],
   "source": [
    "B"
   ]
  },
  {
   "cell_type": "code",
   "execution_count": 36,
   "metadata": {},
   "outputs": [
    {
     "output_type": "execute_result",
     "data": {
      "text/plain": "array([[ 5, 13, 10],\n       [ 2,  8, 14],\n       [ 6, -9, 10]])"
     },
     "metadata": {},
     "execution_count": 36
    }
   ],
   "source": [
    "A+B"
   ]
  },
  {
   "cell_type": "code",
   "execution_count": 37,
   "metadata": {},
   "outputs": [],
   "source": [
    "C = A+B"
   ]
  },
  {
   "cell_type": "code",
   "execution_count": 38,
   "metadata": {},
   "outputs": [
    {
     "output_type": "execute_result",
     "data": {
      "text/plain": "array([[ 5, 13, 10],\n       [ 2,  8, 14],\n       [ 6, -9, 10]])"
     },
     "metadata": {},
     "execution_count": 38
    }
   ],
   "source": [
    "np.add(A,B)"
   ]
  },
  {
   "cell_type": "code",
   "execution_count": 39,
   "metadata": {},
   "outputs": [
    {
     "output_type": "execute_result",
     "data": {
      "text/plain": "array([[ 5., 13., 10.],\n       [ 2.,  8., 14.],\n       [ 6., -9., 10.]], dtype=float128)"
     },
     "metadata": {},
     "execution_count": 39
    }
   ],
   "source": [
    "# casting the reults to a different type\n",
    "np.add(A, B, dtype = np.float128)"
   ]
  },
  {
   "cell_type": "markdown",
   "metadata": {},
   "source": [
    "MATRIX SUBRACTION"
   ]
  },
  {
   "cell_type": "code",
   "execution_count": 40,
   "metadata": {},
   "outputs": [
    {
     "output_type": "execute_result",
     "data": {
      "text/plain": "array([[-3, -3,  2],\n       [ 0,  8,  4],\n       [-6,  7,  2]])"
     },
     "metadata": {},
     "execution_count": 40
    }
   ],
   "source": [
    "D = A-B\n",
    "D"
   ]
  },
  {
   "cell_type": "code",
   "execution_count": 41,
   "metadata": {},
   "outputs": [
    {
     "output_type": "execute_result",
     "data": {
      "text/plain": "array([[-3, -3,  2],\n       [ 0,  8,  4],\n       [-6,  7,  2]])"
     },
     "metadata": {},
     "execution_count": 41
    }
   ],
   "source": [
    "np.subtract(A,B)"
   ]
  },
  {
   "cell_type": "code",
   "execution_count": 42,
   "metadata": {},
   "outputs": [
    {
     "output_type": "execute_result",
     "data": {
      "text/plain": "array([[-3., -3.,  2.],\n       [ 0.,  8.,  4.],\n       [-6.,  7.,  2.]], dtype=float128)"
     },
     "metadata": {},
     "execution_count": 42
    }
   ],
   "source": [
    "np.subtract(A, B, dtype = np.float128)"
   ]
  },
  {
   "cell_type": "markdown",
   "metadata": {},
   "source": [
    "MATRIX MULTIPLICATION(POINTWISE MULTIPLICATION)"
   ]
  },
  {
   "cell_type": "code",
   "execution_count": 43,
   "metadata": {},
   "outputs": [
    {
     "output_type": "execute_result",
     "data": {
      "text/plain": "array([[ 4, 40, 24],\n       [ 1,  0, 45],\n       [ 0,  8, 24]])"
     },
     "metadata": {},
     "execution_count": 43
    }
   ],
   "source": [
    "E = A*B\n",
    "E"
   ]
  },
  {
   "cell_type": "code",
   "execution_count": 44,
   "metadata": {},
   "outputs": [
    {
     "output_type": "execute_result",
     "data": {
      "text/plain": "array([[ 4, 40, 24],\n       [ 1,  0, 45],\n       [ 0,  8, 24]])"
     },
     "metadata": {},
     "execution_count": 44
    }
   ],
   "source": [
    "np.multiply(A, B)"
   ]
  },
  {
   "cell_type": "code",
   "execution_count": 45,
   "metadata": {},
   "outputs": [
    {
     "output_type": "execute_result",
     "data": {
      "text/plain": "array([[ 4., 40., 24.],\n       [ 1.,  0., 45.],\n       [ 0.,  8., 24.]], dtype=float128)"
     },
     "metadata": {},
     "execution_count": 45
    }
   ],
   "source": [
    "np.multiply(A, B, dtype=np.float128)"
   ]
  },
  {
   "cell_type": "markdown",
   "metadata": {},
   "source": [
    "MATRIX DIVISION (POINTWISE)"
   ]
  },
  {
   "cell_type": "code",
   "execution_count": 46,
   "metadata": {},
   "outputs": [
    {
     "output_type": "execute_result",
     "data": {
      "text/plain": "array([[0.25 , 0.625, 1.5  ],\n       [1.   ,   inf, 1.8  ],\n       [0.   , 0.125, 1.5  ]])"
     },
     "metadata": {},
     "execution_count": 46
    }
   ],
   "source": [
    "F = A/B\n",
    "F"
   ]
  },
  {
   "cell_type": "code",
   "execution_count": 47,
   "metadata": {},
   "outputs": [
    {
     "output_type": "execute_result",
     "data": {
      "text/plain": "array([[0.25 , 0.625, 1.5  ],\n       [1.   ,   inf, 1.8  ],\n       [0.   , 0.125, 1.5  ]])"
     },
     "metadata": {},
     "execution_count": 47
    }
   ],
   "source": [
    "np.divide(A, B)"
   ]
  },
  {
   "cell_type": "code",
   "execution_count": 48,
   "metadata": {},
   "outputs": [
    {
     "output_type": "execute_result",
     "data": {
      "text/plain": "array([[0.25 , 0.625, 1.5  ],\n       [1.   ,   inf, 1.8  ],\n       [0.   , 0.125, 1.5  ]], dtype=float128)"
     },
     "metadata": {},
     "execution_count": 48
    }
   ],
   "source": [
    "np.divide(A, B, dtype=np.float128)"
   ]
  },
  {
   "cell_type": "code",
   "execution_count": 49,
   "metadata": {},
   "outputs": [
    {
     "output_type": "execute_result",
     "data": {
      "text/plain": "array([[0, 0, 1],\n       [1, 0, 1],\n       [0, 0, 1]], dtype=int16)"
     },
     "metadata": {},
     "execution_count": 49
    }
   ],
   "source": [
    "np.int16(F)"
   ]
  },
  {
   "cell_type": "markdown",
   "metadata": {},
   "source": [
    "### MATRIX PRODUCTS"
   ]
  },
  {
   "cell_type": "code",
   "execution_count": null,
   "metadata": {},
   "outputs": [],
   "source": []
  }
 ]
}