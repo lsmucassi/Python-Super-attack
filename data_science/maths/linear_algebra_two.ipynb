{
 "metadata": {
  "language_info": {
   "codemirror_mode": {
    "name": "ipython",
    "version": 3
   },
   "file_extension": ".py",
   "mimetype": "text/x-python",
   "name": "python",
   "nbconvert_exporter": "python",
   "pygments_lexer": "ipython3",
   "version": "3.8.2-final"
  },
  "orig_nbformat": 2,
  "kernelspec": {
   "name": "python38264bit3cdd97de52a24b9daf52c2ea50aadc7e",
   "display_name": "Python 3.8.2 64-bit"
  }
 },
 "nbformat": 4,
 "nbformat_minor": 2,
 "cells": [
  {
   "cell_type": "markdown",
   "metadata": {},
   "source": [
    "Becoming a  Data Scientist\n",
    "Learning linear algebra using numpy.\n",
    "[ PART TWO ]\n",
    "- # MATRIX"
   ]
  },
  {
   "cell_type": "code",
   "execution_count": 33,
   "metadata": {},
   "outputs": [],
   "source": [
    "import numpy as np \n"
   ]
  },
  {
   "cell_type": "markdown",
   "metadata": {},
   "source": [
    "MATRIX ADDITION"
   ]
  },
  {
   "cell_type": "code",
   "execution_count": 34,
   "metadata": {},
   "outputs": [
    {
     "output_type": "execute_result",
     "data": {
      "text/plain": "array([[ 1,  5,  6],\n       [ 1,  8,  9],\n       [ 0, -1,  6]])"
     },
     "metadata": {},
     "execution_count": 34
    }
   ],
   "source": [
    "A = np.array([[1,5,6],[1,8,9],[0,-1,6]])\n",
    "B = np.array([[4,8,4],[1,0,5],[6,-8,4]])\n",
    "A"
   ]
  },
  {
   "cell_type": "code",
   "execution_count": 35,
   "metadata": {},
   "outputs": [
    {
     "output_type": "execute_result",
     "data": {
      "text/plain": "array([[ 4,  8,  4],\n       [ 1,  0,  5],\n       [ 6, -8,  4]])"
     },
     "metadata": {},
     "execution_count": 35
    }
   ],
   "source": [
    "B"
   ]
  },
  {
   "cell_type": "code",
   "execution_count": 36,
   "metadata": {},
   "outputs": [
    {
     "output_type": "execute_result",
     "data": {
      "text/plain": "array([[ 5, 13, 10],\n       [ 2,  8, 14],\n       [ 6, -9, 10]])"
     },
     "metadata": {},
     "execution_count": 36
    }
   ],
   "source": [
    "A+B"
   ]
  },
  {
   "cell_type": "code",
   "execution_count": 37,
   "metadata": {},
   "outputs": [],
   "source": [
    "C = A+B"
   ]
  },
  {
   "cell_type": "code",
   "execution_count": 38,
   "metadata": {},
   "outputs": [
    {
     "output_type": "execute_result",
     "data": {
      "text/plain": "array([[ 5, 13, 10],\n       [ 2,  8, 14],\n       [ 6, -9, 10]])"
     },
     "metadata": {},
     "execution_count": 38
    }
   ],
   "source": [
    "np.add(A,B)"
   ]
  },
  {
   "cell_type": "code",
   "execution_count": 39,
   "metadata": {},
   "outputs": [
    {
     "output_type": "execute_result",
     "data": {
      "text/plain": "array([[ 5., 13., 10.],\n       [ 2.,  8., 14.],\n       [ 6., -9., 10.]], dtype=float128)"
     },
     "metadata": {},
     "execution_count": 39
    }
   ],
   "source": [
    "# casting the reults to a different type\n",
    "np.add(A, B, dtype = np.float128)"
   ]
  },
  {
   "cell_type": "markdown",
   "metadata": {},
   "source": [
    "MATRIX SUBRACTION"
   ]
  },
  {
   "cell_type": "code",
   "execution_count": 40,
   "metadata": {},
   "outputs": [
    {
     "output_type": "execute_result",
     "data": {
      "text/plain": "array([[-3, -3,  2],\n       [ 0,  8,  4],\n       [-6,  7,  2]])"
     },
     "metadata": {},
     "execution_count": 40
    }
   ],
   "source": [
    "D = A-B\n",
    "D"
   ]
  },
  {
   "cell_type": "code",
   "execution_count": 41,
   "metadata": {},
   "outputs": [
    {
     "output_type": "execute_result",
     "data": {
      "text/plain": "array([[-3, -3,  2],\n       [ 0,  8,  4],\n       [-6,  7,  2]])"
     },
     "metadata": {},
     "execution_count": 41
    }
   ],
   "source": [
    "np.subtract(A,B)"
   ]
  },
  {
   "cell_type": "code",
   "execution_count": 42,
   "metadata": {},
   "outputs": [
    {
     "output_type": "execute_result",
     "data": {
      "text/plain": "array([[-3., -3.,  2.],\n       [ 0.,  8.,  4.],\n       [-6.,  7.,  2.]], dtype=float128)"
     },
     "metadata": {},
     "execution_count": 42
    }
   ],
   "source": [
    "np.subtract(A, B, dtype = np.float128)"
   ]
  },
  {
   "cell_type": "markdown",
   "metadata": {},
   "source": [
    "MATRIX MULTIPLICATION(POINTWISE MULTIPLICATION)"
   ]
  },
  {
   "cell_type": "code",
   "execution_count": 43,
   "metadata": {},
   "outputs": [
    {
     "output_type": "execute_result",
     "data": {
      "text/plain": "array([[ 4, 40, 24],\n       [ 1,  0, 45],\n       [ 0,  8, 24]])"
     },
     "metadata": {},
     "execution_count": 43
    }
   ],
   "source": [
    "E = A*B\n",
    "E"
   ]
  },
  {
   "cell_type": "code",
   "execution_count": 44,
   "metadata": {},
   "outputs": [
    {
     "output_type": "execute_result",
     "data": {
      "text/plain": "array([[ 4, 40, 24],\n       [ 1,  0, 45],\n       [ 0,  8, 24]])"
     },
     "metadata": {},
     "execution_count": 44
    }
   ],
   "source": [
    "np.multiply(A, B)"
   ]
  },
  {
   "cell_type": "code",
   "execution_count": 45,
   "metadata": {},
   "outputs": [
    {
     "output_type": "execute_result",
     "data": {
      "text/plain": "array([[ 4., 40., 24.],\n       [ 1.,  0., 45.],\n       [ 0.,  8., 24.]], dtype=float128)"
     },
     "metadata": {},
     "execution_count": 45
    }
   ],
   "source": [
    "np.multiply(A, B, dtype=np.float128)"
   ]
  },
  {
   "cell_type": "markdown",
   "metadata": {},
   "source": [
    "MATRIX DIVISION (POINTWISE)"
   ]
  },
  {
   "cell_type": "code",
   "execution_count": 46,
   "metadata": {},
   "outputs": [
    {
     "output_type": "execute_result",
     "data": {
      "text/plain": "array([[0.25 , 0.625, 1.5  ],\n       [1.   ,   inf, 1.8  ],\n       [0.   , 0.125, 1.5  ]])"
     },
     "metadata": {},
     "execution_count": 46
    }
   ],
   "source": [
    "F = A/B\n",
    "F"
   ]
  },
  {
   "cell_type": "code",
   "execution_count": 47,
   "metadata": {},
   "outputs": [
    {
     "output_type": "execute_result",
     "data": {
      "text/plain": "array([[0.25 , 0.625, 1.5  ],\n       [1.   ,   inf, 1.8  ],\n       [0.   , 0.125, 1.5  ]])"
     },
     "metadata": {},
     "execution_count": 47
    }
   ],
   "source": [
    "np.divide(A, B)"
   ]
  },
  {
   "cell_type": "code",
   "execution_count": 48,
   "metadata": {},
   "outputs": [
    {
     "output_type": "execute_result",
     "data": {
      "text/plain": "array([[0.25 , 0.625, 1.5  ],\n       [1.   ,   inf, 1.8  ],\n       [0.   , 0.125, 1.5  ]], dtype=float128)"
     },
     "metadata": {},
     "execution_count": 48
    }
   ],
   "source": [
    "np.divide(A, B, dtype=np.float128)"
   ]
  },
  {
   "cell_type": "code",
   "execution_count": 49,
   "metadata": {},
   "outputs": [
    {
     "output_type": "execute_result",
     "data": {
      "text/plain": "array([[0, 0, 1],\n       [1, 0, 1],\n       [0, 0, 1]], dtype=int16)"
     },
     "metadata": {},
     "execution_count": 49
    }
   ],
   "source": [
    "np.int16(F)"
   ]
  },
  {
   "cell_type": "markdown",
   "metadata": {},
   "source": [
    "### MATRIX PRODUCTS"
   ]
  },
  {
   "cell_type": "code",
   "execution_count": 50,
   "metadata": {},
   "outputs": [
    {
     "output_type": "execute_result",
     "data": {
      "text/plain": "array([[ 45, -40,  53],\n       [ 66, -64,  80],\n       [ 35, -48,  19]])"
     },
     "metadata": {},
     "execution_count": 50
    }
   ],
   "source": [
    "np.matmul(A, B)"
   ]
  },
  {
   "cell_type": "markdown",
   "metadata": {},
   "source": [
    "$$C = AB$$"
   ]
  },
  {
   "cell_type": "markdown",
   "metadata": {},
   "source": [
    "$$C_{ij} = \\sum_{k=1}^N A_{ik} B_{kj}$$"
   ]
  },
  {
   "cell_type": "code",
   "execution_count": 54,
   "metadata": {},
   "outputs": [
    {
     "output_type": "execute_result",
     "data": {
      "text/plain": "array([[ 1,  2,  3,  4],\n       [ 2,  5,  6,  8],\n       [ 1,  2,  4, 10]])"
     },
     "metadata": {},
     "execution_count": 54
    }
   ],
   "source": [
    "G = np.array([[1,2,3,4],[2,5,6,8],[1,2,4,10]])\n",
    "G"
   ]
  },
  {
   "cell_type": "code",
   "execution_count": 57,
   "metadata": {},
   "outputs": [
    {
     "output_type": "execute_result",
     "data": {
      "text/plain": "array([[ 17,  39,  57, 104],\n       [ 26,  60,  87, 158],\n       [  4,   7,  18,  52]])"
     },
     "metadata": {},
     "execution_count": 57
    }
   ],
   "source": [
    "# you can multipy (A or B) by C but not G by (B or A)\n",
    "np.matmul(A, G)"
   ]
  },
  {
   "cell_type": "code",
   "execution_count": 58,
   "metadata": {},
   "outputs": [
    {
     "output_type": "execute_result",
     "data": {
      "text/plain": "array([[ 24,  56,  76, 120],\n       [  6,  12,  23,  54],\n       [ -6, -20, -14,   0]])"
     },
     "metadata": {},
     "execution_count": 58
    }
   ],
   "source": [
    "np.matmul(B, G)"
   ]
  },
  {
   "cell_type": "code",
   "execution_count": 60,
   "metadata": {},
   "outputs": [],
   "source": [
    "# uncomment line  to test\n",
    "# np.matmul(G, A) "
   ]
  },
  {
   "cell_type": "code",
   "execution_count": 61,
   "metadata": {},
   "outputs": [
    {
     "output_type": "execute_result",
     "data": {
      "text/plain": "array([[  3,  20,  30],\n       [  7,  48,  69],\n       [  9,  59,  96],\n       [ 12,  74, 156]])"
     },
     "metadata": {},
     "execution_count": 61
    }
   ],
   "source": [
    "# Fix by using transpose\n",
    "np.matmul(G.transpose(), A )"
   ]
  },
  {
   "cell_type": "code",
   "execution_count": 64,
   "metadata": {},
   "outputs": [
    {
     "output_type": "execute_result",
     "data": {
      "text/plain": "array([1, 1, 0])"
     },
     "metadata": {},
     "execution_count": 64
    }
   ],
   "source": [
    "a  = A[:, 0]\n",
    "a"
   ]
  },
  {
   "cell_type": "code",
   "execution_count": 65,
   "metadata": {},
   "outputs": [
    {
     "output_type": "execute_result",
     "data": {
      "text/plain": "array([4, 1, 6])"
     },
     "metadata": {},
     "execution_count": 65
    }
   ],
   "source": [
    "b = B[:,0]\n",
    "b"
   ]
  },
  {
   "cell_type": "code",
   "execution_count": 66,
   "metadata": {},
   "outputs": [
    {
     "output_type": "execute_result",
     "data": {
      "text/plain": "5"
     },
     "metadata": {},
     "execution_count": 66
    }
   ],
   "source": [
    "np.matmul(a, b)"
   ]
  },
  {
   "cell_type": "code",
   "execution_count": 67,
   "metadata": {},
   "outputs": [
    {
     "output_type": "execute_result",
     "data": {
      "text/plain": "5"
     },
     "metadata": {},
     "execution_count": 67
    }
   ],
   "source": [
    "np.dot(a,b)"
   ]
  },
  {
   "cell_type": "markdown",
   "metadata": {},
   "source": [
    "$$<a,b> = a^T b = \\sum_{i=1}^n a_i b_i$$"
   ]
  },
  {
   "cell_type": "code",
   "execution_count": 68,
   "metadata": {},
   "outputs": [
    {
     "output_type": "execute_result",
     "data": {
      "text/plain": "5"
     },
     "metadata": {},
     "execution_count": 68
    }
   ],
   "source": [
    "np.inner(a,b)"
   ]
  },
  {
   "cell_type": "code",
   "execution_count": 70,
   "metadata": {},
   "outputs": [
    {
     "output_type": "execute_result",
     "data": {
      "text/plain": "array(146)"
     },
     "metadata": {},
     "execution_count": 70
    }
   ],
   "source": [
    "np.tensordot(A,B)"
   ]
  },
  {
   "cell_type": "code",
   "execution_count": 72,
   "metadata": {},
   "outputs": [
    {
     "output_type": "execute_result",
     "data": {
      "text/plain": "array([[4400., 4730.],\n       [4532., 4874.],\n       [4664., 5018.],\n       [4796., 5162.],\n       [4928., 5306.]])"
     },
     "metadata": {},
     "execution_count": 72
    }
   ],
   "source": [
    " >>> a = np.arange(60.).reshape(3,4,5)\n",
    " >>> b = np.arange(24.).reshape(4,3,2)\n",
    " np.tensordot(a,b, axes=([1,0],[0,1]))"
   ]
  },
  {
   "cell_type": "code",
   "execution_count": 74,
   "metadata": {
    "tags": []
   },
   "outputs": [
    {
     "output_type": "stream",
     "name": "stdout",
     "text": "[[ 1  5  6]\n [ 1  8  9]\n [ 0 -1  6]]\n"
    },
    {
     "output_type": "execute_result",
     "data": {
      "text/plain": "array([[  -74112867,  -562232043,  -696061917],\n       [ -113084721,  -860918571, -1044890766],\n       [     531927,   115744356,  -626770224]])"
     },
     "metadata": {},
     "execution_count": 74
    }
   ],
   "source": [
    "# matrix power\n",
    "print(A)\n",
    "np.linalg.matrix_power(A, 10)"
   ]
  },
  {
   "cell_type": "code",
   "execution_count": 76,
   "metadata": {},
   "outputs": [
    {
     "output_type": "execute_result",
     "data": {
      "text/plain": "array([[  6,  39,  87],\n       [  9,  60, 132],\n       [ -1, -14,  27]])"
     },
     "metadata": {},
     "execution_count": 76
    }
   ],
   "source": [
    "# matrix exponantiation \n",
    "np.matmul(A, A)"
   ]
  },
  {
   "cell_type": "markdown",
   "metadata": {},
   "source": [
    "$$C = A \\otimes B$$"
   ]
  },
  {
   "cell_type": "code",
   "execution_count": 78,
   "metadata": {},
   "outputs": [
    {
     "output_type": "execute_result",
     "data": {
      "text/plain": "array([[  4,   8,   4,  20,  40,  20,  24,  48,  24],\n       [  1,   0,   5,   5,   0,  25,   6,   0,  30],\n       [  6,  -8,   4,  30, -40,  20,  36, -48,  24],\n       [  4,   8,   4,  32,  64,  32,  36,  72,  36],\n       [  1,   0,   5,   8,   0,  40,   9,   0,  45],\n       [  6,  -8,   4,  48, -64,  32,  54, -72,  36],\n       [  0,   0,   0,  -4,  -8,  -4,  24,  48,  24],\n       [  0,   0,   0,  -1,   0,  -5,   6,   0,  30],\n       [  0,   0,   0,  -6,   8,  -4,  36, -48,  24]])"
     },
     "metadata": {},
     "execution_count": 78
    }
   ],
   "source": [
    "H = np.kron(A,B)\n",
    "H"
   ]
  },
  {
   "cell_type": "markdown",
   "metadata": {},
   "source": [
    "### MATRIX DECOMPOSITION\n",
    "##### Cholesky decomposition"
   ]
  },
  {
   "cell_type": "code",
   "execution_count": 83,
   "metadata": {},
   "outputs": [
    {
     "output_type": "execute_result",
     "data": {
      "text/plain": "array([[ 1.        ,  0.        ,  0.        ],\n       [ 1.        ,  2.64575131,  0.        ],\n       [ 0.        , -0.37796447,  2.42015348]])"
     },
     "metadata": {},
     "execution_count": 83
    }
   ],
   "source": [
    "I = np.linalg.cholesky(A)\n",
    "I"
   ]
  },
  {
   "cell_type": "code",
   "execution_count": 84,
   "metadata": {},
   "outputs": [
    {
     "output_type": "execute_result",
     "data": {
      "text/plain": "array([[ 1.,  1.,  0.],\n       [ 1.,  8., -1.],\n       [ 0., -1.,  6.]])"
     },
     "metadata": {},
     "execution_count": 84
    }
   ],
   "source": [
    "np.matmul(I, I.transpose())"
   ]
  },
  {
   "cell_type": "code",
   "execution_count": 85,
   "metadata": {},
   "outputs": [
    {
     "output_type": "execute_result",
     "data": {
      "text/plain": "array([[ 1,  5,  6],\n       [ 1,  8,  9],\n       [ 0, -1,  6]])"
     },
     "metadata": {},
     "execution_count": 85
    }
   ],
   "source": [
    "A"
   ]
  },
  {
   "cell_type": "code",
   "execution_count": 88,
   "metadata": {},
   "outputs": [
    {
     "output_type": "execute_result",
     "data": {
      "text/plain": "array([[ 1.+0.j, -0.-2.j],\n       [ 0.+2.j,  5.+0.j]])"
     },
     "metadata": {},
     "execution_count": 88
    }
   ],
   "source": [
    "J = np.array([[1,-2j],[2j,5]])\n",
    "J"
   ]
  },
  {
   "cell_type": "code",
   "execution_count": 90,
   "metadata": {},
   "outputs": [
    {
     "output_type": "execute_result",
     "data": {
      "text/plain": "array([[1.+0.j, 0.-2.j],\n       [0.+2.j, 5.+0.j]])"
     },
     "metadata": {},
     "execution_count": 90
    }
   ],
   "source": [
    "K = np.linalg.cholesky(J)\n",
    "np.matmul(K, K.T.conj())"
   ]
  },
  {
   "cell_type": "code",
   "execution_count": 91,
   "metadata": {},
   "outputs": [
    {
     "output_type": "execute_result",
     "data": {
      "text/plain": "array([[ 1,  1,  0],\n       [ 5,  8, -1],\n       [ 6,  9,  6]])"
     },
     "metadata": {},
     "execution_count": 91
    }
   ],
   "source": [
    "A.T"
   ]
  },
  {
   "cell_type": "markdown",
   "metadata": {},
   "source": [
    "##### QR Decomposition  $$A = QR $$"
   ]
  },
  {
   "cell_type": "code",
   "execution_count": 98,
   "metadata": {},
   "outputs": [
    {
     "output_type": "execute_result",
     "data": {
      "text/plain": "array([[ 1.,  5.,  6.],\n       [ 1.,  8.,  9.],\n       [ 0., -1.,  6.]])"
     },
     "metadata": {},
     "execution_count": 98
    }
   ],
   "source": [
    "L = np.linalg.qr(A)[0]\n",
    "M = np.linalg.qr(A)[1]\n",
    "(d,e) = np.linalg.eig(A)\n",
    "np.matmul(L,M)"
   ]
  },
  {
   "cell_type": "code",
   "execution_count": null,
   "metadata": {},
   "outputs": [],
   "source": []
  }
 ]
}